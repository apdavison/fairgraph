{
 "cells": [
  {
   "cell_type": "markdown",
   "metadata": {},
   "source": [
    "# Working with data from the EBRAINS Knowledge Graph: an advanced tutorial\n",
    "\n",
    "This notebook contains a tutorial for working with the [EBRAINS Knowledge Graph](https://docs.kg.ebrains.eu),\n",
    "which is the metadata management system of the [EBRAINS Research Infrastructure](https://www.ebrains.eu).\n",
    "\n",
    "There are many different software tools for working with the Knowledge Graph (KG).\n",
    "In this tutorial, we will demonstrate how to work with the [fairgraph](https://fairgraph.readthedocs.io) library for Python,\n",
    "which is based on \n",
    "- the [ebrains-kg-core](https://pypi.org/project/ebrains-kg-core/) Python library\n",
    "- the [openMINDS](https://openminds-documentation.readthedocs.io/) metadata schemas \n",
    "\n",
    "A tutorial on working with the KG in Javascript is available [here](https://github.com/apdavison/ebrains-kg-tutorial-javascript)."
   ]
  },
  {
   "cell_type": "markdown",
   "metadata": {},
   "source": [
    "## 1. Getting started\n",
    "\n",
    "If you are running this notebook in the [EBRAINS Lab](https://lab.ebrains.eu/) using the latest kernel from the EBRAINS Software Distribution, fairgraph is already installed.\n",
    "\n",
    "If you are running this elsewhere, install fairgraph using:\n",
    "\n",
    "```\n",
    "pip install fairgraph\n",
    "```\n",
    "\n",
    "### Authentication / authorization\n",
    "\n",
    "Using the [KG API](https://core.kg.ebrains.eu/swagger-ui.html) is restricted to EBRAINS users who have agreed to the [Terms of Use](https://docs.kg.ebrains.eu/search-terms-of-use.html?v=2.2) (please read them now!) \n",
    "When making a request to the API, the user must provide an authorization token.\n",
    "\n",
    "#### Option A. If you are running this notebook in the EBRAINS Lab\n",
    "\n",
    "In this case, fairgraph knows how to obtain a token from your environment (since you've already logged into the Lab using your EBRAINS account). \n",
    "You can therefore go ahead and create a client for communicating with the KG:"
   ]
  },
  {
   "cell_type": "code",
   "execution_count": null,
   "metadata": {},
   "outputs": [],
   "source": [
    "from fairgraph import KGClient\n",
    "\n",
    "kg_client = KGClient(host=\"core.kg.ebrains.eu\")"
   ]
  },
  {
   "cell_type": "markdown",
   "metadata": {},
   "source": [
    "#### Option B. If you are running the notebook locally on your own machine\n",
    "\n",
    "You will need to obtain a token from somewhere else.\n",
    "Here are three possibilities:\n",
    "\n",
    "1. Log-in to the [KG Editor](https://editor.kg.ebrains.eu) app, then click on the Account icon (top right), click on \"Copy token to clipboard\", then paste the token into the code cell below as the variable `auth_token`.\n",
    "Note that this token has quite a short validity, only about 10 minutes, so you will need to repeat this process, and re-execute the cell from time to time as you work through the tutorial.\n",
    "\n",
    "![Screenshot of \"Copy token to clipboard\" button in KG Editor app](images/get-token.png)\n",
    "\n",
    "2. In a Jupyter notebook in the [EBRAINS Lab](https://lab.ebrains.eu/), run the following code:\n",
    "\n",
    "```\n",
    "from clb_nb_utils.oauth import get_token\n",
    "get_token()\n",
    "```\n",
    "\n",
    "and then copy/paste the token as above. Tokens obtained from the Lab are valid for longer."
   ]
  },
  {
   "cell_type": "code",
   "execution_count": 7,
   "metadata": {},
   "outputs": [],
   "source": [
    "from fairgraph import KGClient\n",
    "\n",
    "auth_token = \"eyJh...\"\n",
    "kg_client = KGClient(token=auth_token, host=\"core.kg.ebrains.eu\")"
   ]
  },
  {
   "cell_type": "markdown",
   "metadata": {},
   "source": [
    "3. Create a KG client without a token, then run any code that needs to access the KG. This will give you a link that you can click to log-in via a web browser, you can then return to this notebook."
   ]
  },
  {
   "cell_type": "code",
   "execution_count": null,
   "metadata": {},
   "outputs": [],
   "source": [
    "from fairgraph import KGClient\n",
    "\n",
    "kg_client = KGClient(host=\"core.kg.ebrains.eu\")\n",
    "kg_client.user_info()"
   ]
  },
  {
   "cell_type": "markdown",
   "metadata": {},
   "source": [
    "## 2. Key concepts\n",
    "\n",
    "The core of the EBRAINS Knowledge Graph is a [graph database](https://en.wikipedia.org/wiki/Graph_database) containing detailed metadata about neuroscience datasets, models, software, and other research products.\n",
    "The actual data/code of the datasets, models, etc. are stored outside the KG, but the KG stores links to the data/code locations.\n",
    "The EBRAINS KG is implemented using an open-source software system called MarmotGraph (developed in the Human Brain Project and EBRAINS projects).\n",
    "\n",
    "The primary user interface of the KG is a web API, whose end-points are [documented interactively here](https://core.kg.ebrains.eu/swagger-ui/index.html).\n",
    "In this tutorial we will use the fairgraph Python library to send requests to this API and handle the responses,\n",
    "but the API can be accessed using many different programming languages,\n",
    "and EBRAINS also provides libraries for [Java](https://central.sonatype.com/artifact/eu.ebrains.kg/kg-core-sdk[) and [Javascript/Typescript](https://www.npmjs.com/package/@ebrains/kg-core) to simplify working with the API.\n",
    "\n",
    "The primary document type used by the KG API is [JSON-LD](https://json-ld.org).\n",
    "This builds on the widely-used JSON format by adding features to support linked data,\n",
    "i.e., data that follows a graph structure.\n",
    "\n",
    "While JSON-LD specifies the form of the data/metadata, it doesn't specify the content.\n",
    "[openMINDS](https://openminds-documentation.readthedocs.io/) is a project to develop metadata schemas and libraries for neuroscience and related fields.\n",
    "It specifies what types of object we can store metadata about, and what properties each type should have, \n",
    "e.g., a [`Person`](https://openminds-documentation.readthedocs.io/en/latest/schema_specifications/core/actors/person.html) should have a `givenName` and a `familyName`.\n",
    "All metadata in the KG follows the openMINDS schemas.\n",
    "\n",
    "fairgraph provides a Python class for each openMINDS type, and lets you create or access KG nodes as Python objects. \n",
    "Behind the scenes, fairgraph takes care of:\n",
    "- converting the Python objects into/from JSON-LD documents\n",
    "- communicating with the KG.\n",
    "\n",
    "fairgraph also provides a simplified query interface, while still allowing low-level access to the underlying query language if necessary. "
   ]
  },
  {
   "cell_type": "markdown",
   "metadata": {},
   "source": [
    "## 3. Retrieving a metadata node based on its ID\n",
    "\n",
    "As noted above, each node in the KG can be represented by a Python object. \n",
    "If you know the hexadecimal identifier of the node and its type, the object can be retrieved using the `from_id()` method of the appropriate class. Here, we retrieve a specific dataset:"
   ]
  },
  {
   "cell_type": "code",
   "execution_count": 2,
   "metadata": {},
   "outputs": [],
   "source": [
    "import fairgraph.openminds.core as omcore\n",
    "omcore.set_error_handling(None)\n",
    "\n",
    "dataset_id = \"bd5f91ff-e829-4b85-92eb-fc56991541f1\"\n",
    "dataset_version = omcore.DatasetVersion.from_id(dataset_id, kg_client)"
   ]
  },
  {
   "cell_type": "code",
   "execution_count": 3,
   "metadata": {},
   "outputs": [
    {
     "name": "stdout",
     "output_type": "stream",
     "text": [
      "id                       https://kg.ebrains.eu/api/instances/bd5f91ff-e829-4b85-92eb-fc56991541f1\n",
      "space                    dataset\n",
      "type                     https://openminds.ebrains.eu/core/DatasetVersion\n",
      "accessibility            KGProxy([<class 'fairgraph.openminds.controlled_terms.product_accessibility.ProductAccessibility'>], 'https://kg.ebrains.eu/api/instances/b2ff7a47-b349-48d7-8ce4-cf51868675f1')\n",
      "data_types               KGProxy([<class 'fairgraph.openminds.controlled_terms.semantic_data_type.SemanticDataType'>], 'https://kg.ebrains.eu/api/instances/f468ee45-37a6-4e71-8b70-0cbe66d367db')\n",
      "description\n",
      "digital_identifier       KGProxy((<class 'fairgraph.openminds.core.digital_identifier.doi.DOI'>, <class 'fairgraph.openminds.core.digital_identifier.identifiers_dot_org_id.IdentifiersDotOrgID'>), 'https://kg.ebrains.eu/api/instances/df93b012-3bb6-4565-bce0-3bd2d3aed63b')\n",
      "ethics_assessment        KGProxy([<class 'fairgraph.openminds.controlled_terms.ethics_assessment.EthicsAssessment'>], 'https://kg.ebrains.eu/api/instances/a217a2f8-dcb8-4ca9-9923-517af2aebc5b')\n",
      "experimental_approaches  KGProxy([<class 'fairgraph.openminds.controlled_terms.experimental_approach.ExperimentalApproach'>], 'https://kg.ebrains.eu/api/instances/411b233f-a054-4719-bbd5-e86f1302bc46')\n",
      "full_documentation       KGProxy((<class 'fairgraph.openminds.core.digital_identifier.doi.DOI'>, <class 'fairgraph.openminds.core.data.file.File'>, <class 'fairgraph.openminds.core.digital_identifier.isbn.ISBN'>, <class 'fairgraph.openminds.core.miscellaneous.web_resource.WebResource'>), 'https://kg.ebrains.eu/api/instances/a245c132-30ae-4ba8-a1d1-3a0f44d056aa')\n",
      "full_name                Excitability profile of CA1 pyramidal neurons in APPPS1 Alzheimer disease mice and control littermates\n",
      "keywords                 KGProxy((<class 'fairgraph.openminds.controlled_terms.action_status_type.ActionStatusType'>, <class 'fairgraph.openminds.controlled_terms.age_category.AgeCategory'>, <class 'fairgraph.openminds.controlled_terms.analysis_technique.AnalysisTechnique'>, <class 'fairgraph.openminds.controlled_terms.anatomical_axes_orientation.AnatomicalAxesOrientation'>, <class 'fairgraph.openminds.controlled_terms.anatomical_identification_type.AnatomicalIdentificationType'>, <class 'fairgraph.openminds.controlled_terms.anatomical_plane.AnatomicalPlane'>, <class 'fairgraph.openminds.controlled_terms.annotation_criteria_type.AnnotationCriteriaType'>, <class 'fairgraph.openminds.controlled_terms.annotation_type.AnnotationType'>, <class 'fairgraph.openminds.controlled_terms.atlas_type.AtlasType'>, <class 'fairgraph.openminds.controlled_terms.auditory_stimulus_type.AuditoryStimulusType'>, <class 'fairgraph.openminds.controlled_terms.biological_order.BiologicalOrder'>, <class 'fairgraph.openminds.controlled_terms.biological_process.BiologicalProcess'>, <class 'fairgraph.openminds.controlled_terms.biological_sex.BiologicalSex'>, <class 'fairgraph.openminds.controlled_terms.breeding_type.BreedingType'>, <class 'fairgraph.openminds.controlled_terms.cell_culture_type.CellCultureType'>, <class 'fairgraph.openminds.controlled_terms.cell_type.CellType'>, <class 'fairgraph.openminds.controlled_terms.chemical_mixture_type.ChemicalMixtureType'>, <class 'fairgraph.openminds.controlled_terms.colormap.Colormap'>, <class 'fairgraph.openminds.controlled_terms.contribution_type.ContributionType'>, <class 'fairgraph.openminds.controlled_terms.cranial_window_construction_type.CranialWindowConstructionType'>, <class 'fairgraph.openminds.controlled_terms.cranial_window_reinforcement_type.CranialWindowReinforcementType'>, <class 'fairgraph.openminds.controlled_terms.criteria_quality_type.CriteriaQualityType'>, <class 'fairgraph.openminds.controlled_terms.data_type.DataType'>, <class 'fairgraph.openminds.controlled_terms.device_type.DeviceType'>, <class 'fairgraph.openminds.controlled_terms.difference_measure.DifferenceMeasure'>, <class 'fairgraph.openminds.controlled_terms.disease.Disease'>, <class 'fairgraph.openminds.controlled_terms.disease_model.DiseaseModel'>, <class 'fairgraph.openminds.controlled_terms.educational_level.EducationalLevel'>, <class 'fairgraph.openminds.controlled_terms.electrical_stimulus_type.ElectricalStimulusType'>, <class 'fairgraph.openminds.controlled_terms.ethics_assessment.EthicsAssessment'>, <class 'fairgraph.openminds.controlled_terms.experimental_approach.ExperimentalApproach'>, <class 'fairgraph.openminds.controlled_terms.file_bundle_grouping.FileBundleGrouping'>, <class 'fairgraph.openminds.controlled_terms.file_repository_type.FileRepositoryType'>, <class 'fairgraph.openminds.controlled_terms.file_usage_role.FileUsageRole'>, <class 'fairgraph.openminds.controlled_terms.genetic_strain_type.GeneticStrainType'>, <class 'fairgraph.openminds.controlled_terms.gustatory_stimulus_type.GustatoryStimulusType'>, <class 'fairgraph.openminds.controlled_terms.handedness.Handedness'>, <class 'fairgraph.openminds.controlled_terms.language.Language'>, <class 'fairgraph.openminds.controlled_terms.laterality.Laterality'>, <class 'fairgraph.openminds.controlled_terms.learning_resource_type.LearningResourceType'>, <class 'fairgraph.openminds.controlled_terms.mri_pulse_sequence.MRIPulseSequence'>, <class 'fairgraph.openminds.controlled_terms.mri_weighting.MRIWeighting'>, <class 'fairgraph.openminds.controlled_terms.measured_quantity.MeasuredQuantity'>, <class 'fairgraph.openminds.controlled_terms.measured_signal_type.MeasuredSignalType'>, <class 'fairgraph.openminds.controlled_terms.meta_data_model_type.MetaDataModelType'>, <class 'fairgraph.openminds.controlled_terms.model_abstraction_level.ModelAbstractionLevel'>, <class 'fairgraph.openminds.controlled_terms.model_scope.ModelScope'>, <class 'fairgraph.openminds.controlled_terms.molecular_entity.MolecularEntity'>, <class 'fairgraph.openminds.controlled_terms.olfactory_stimulus_type.OlfactoryStimulusType'>, <class 'fairgraph.openminds.controlled_terms.operating_device.OperatingDevice'>, <class 'fairgraph.openminds.controlled_terms.operating_system.OperatingSystem'>, <class 'fairgraph.openminds.controlled_terms.optical_stimulus_type.OpticalStimulusType'>, <class 'fairgraph.openminds.controlled_terms.organ.Organ'>, <class 'fairgraph.openminds.controlled_terms.organism_substance.OrganismSubstance'>, <class 'fairgraph.openminds.controlled_terms.organism_system.OrganismSystem'>, <class 'fairgraph.openminds.controlled_terms.patch_clamp_variation.PatchClampVariation'>, <class 'fairgraph.openminds.controlled_terms.preparation_type.PreparationType'>, <class 'fairgraph.openminds.controlled_terms.product_accessibility.ProductAccessibility'>, <class 'fairgraph.openminds.controlled_terms.programming_language.ProgrammingLanguage'>, <class 'fairgraph.openminds.controlled_terms.qualitative_overlap.QualitativeOverlap'>, <class 'fairgraph.openminds.controlled_terms.semantic_data_type.SemanticDataType'>, <class 'fairgraph.openminds.controlled_terms.service.Service'>, <class 'fairgraph.openminds.controlled_terms.setup_type.SetupType'>, <class 'fairgraph.openminds.controlled_terms.software_application_category.SoftwareApplicationCategory'>, <class 'fairgraph.openminds.controlled_terms.software_feature.SoftwareFeature'>, <class 'fairgraph.openminds.controlled_terms.species.Species'>, <class 'fairgraph.openminds.controlled_terms.stimulation_approach.StimulationApproach'>, <class 'fairgraph.openminds.controlled_terms.stimulation_technique.StimulationTechnique'>, <class 'fairgraph.openminds.controlled_terms.subcellular_entity.SubcellularEntity'>, <class 'fairgraph.openminds.controlled_terms.subject_attribute.SubjectAttribute'>, <class 'fairgraph.openminds.controlled_terms.tactile_stimulus_type.TactileStimulusType'>, <class 'fairgraph.openminds.controlled_terms.technique.Technique'>, <class 'fairgraph.openminds.controlled_terms.term_suggestion.TermSuggestion'>, <class 'fairgraph.openminds.controlled_terms.terminology.Terminology'>, <class 'fairgraph.openminds.controlled_terms.tissue_sample_attribute.TissueSampleAttribute'>, <class 'fairgraph.openminds.controlled_terms.tissue_sample_type.TissueSampleType'>, <class 'fairgraph.openminds.controlled_terms.type_of_uncertainty.TypeOfUncertainty'>, <class 'fairgraph.openminds.controlled_terms.uberon_parcellation.UBERONParcellation'>, <class 'fairgraph.openminds.controlled_terms.unit_of_measurement.UnitOfMeasurement'>, <class 'fairgraph.openminds.controlled_terms.visual_stimulus_type.VisualStimulusType'>), 'https://kg.ebrains.eu/api/instances/62034f18-20fc-46d6-8f0a-277a60cb02e9')\n",
      "license                  KGProxy((<class 'fairgraph.openminds.core.data.license.License'>, <class 'fairgraph.openminds.core.miscellaneous.web_resource.WebResource'>), 'https://kg.ebrains.eu/api/instances/64c1704b-db12-4b29-9541-b9143d081044')\n",
      "preparation_designs      KGProxy([<class 'fairgraph.openminds.controlled_terms.preparation_type.PreparationType'>], 'https://kg.ebrains.eu/api/instances/9f3abe1b-af7c-446d-b637-6a4f19ab7939')\n",
      "related_publications     KGProxy((<class 'fairgraph.openminds.core.digital_identifier.doi.DOI'>, <class 'fairgraph.openminds.core.digital_identifier.handle.HANDLE'>, <class 'fairgraph.openminds.core.digital_identifier.isbn.ISBN'>, <class 'fairgraph.openminds.core.digital_identifier.issn.ISSN'>, <class 'fairgraph.openminds.publications.book.Book'>, <class 'fairgraph.openminds.publications.chapter.Chapter'>, <class 'fairgraph.openminds.publications.scholarly_article.ScholarlyArticle'>), 'https://kg.ebrains.eu/api/instances/5f477d01-82c1-4c6a-891c-e902a8c2241c')\n",
      "release_date             2020-04-21 00:00:00\n",
      "repository               KGProxy([<class 'fairgraph.openminds.core.data.file_repository.FileRepository'>], 'https://kg.ebrains.eu/api/instances/1a319b34-4903-4663-8882-b3fe5703cbcb')\n",
      "short_name               Excitability profile of CA1 pyramidal neurons in APPPS1 Alzheimer disease mice and control littermates\n",
      "studied_specimens        [KGProxy((<class 'fairgraph.openminds.core.research.subject.Subject'>, <class 'fairgraph.openminds.core.research.subject_group.SubjectGroup'>, <class 'fairgraph.openminds.core.research.tissue_sample.TissueSample'>, <class 'fairgraph.openminds.core.research.tissue_sample_collection.TissueSampleCollection'>), 'https://kg.ebrains.eu/api/instances/d04d00c7-b770-4744-a5f4-2ebba26ba1d1'), KGProxy((<class 'fairgraph.openminds.core.research.subject.Subject'>, <class 'fairgraph.openminds.core.research.subject_group.SubjectGroup'>, <class 'fairgraph.openminds.core.research.tissue_sample.TissueSample'>, <class 'fairgraph.openminds.core.research.tissue_sample_collection.TissueSampleCollection'>), 'https://kg.ebrains.eu/api/instances/31f9157a-616b-43b4-8a04-8fd8c15a7524'), KGProxy((<class 'fairgraph.openminds.core.research.subject.Subject'>, <class 'fairgraph.openminds.core.research.subject_group.SubjectGroup'>, <class 'fairgraph.openminds.core.research.tissue_sample.TissueSample'>, <class 'fairgraph.openminds.core.research.tissue_sample_collection.TissueSampleCollection'>), 'https://kg.ebrains.eu/api/instances/853682c7-c317-4091-b3eb-f94ce41a70a5'), KGProxy((<class 'fairgraph.openminds.core.research.subject.Subject'>, <class 'fairgraph.openminds.core.research.subject_group.SubjectGroup'>, <class 'fairgraph.openminds.core.research.tissue_sample.TissueSample'>, <class 'fairgraph.openminds.core.research.tissue_sample_collection.TissueSampleCollection'>), 'https://kg.ebrains.eu/api/instances/8300e9c8-ddce-4b72-811a-96f1f7dc0d4b'), KGProxy((<class 'fairgraph.openminds.core.research.subject.Subject'>, <class 'fairgraph.openminds.core.research.subject_group.SubjectGroup'>, <class 'fairgraph.openminds.core.research.tissue_sample.TissueSample'>, <class 'fairgraph.openminds.core.research.tissue_sample_collection.TissueSampleCollection'>), 'https://kg.ebrains.eu/api/instances/eca80107-1908-43cc-8897-5074f50dbe22'), KGProxy((<class 'fairgraph.openminds.core.research.subject.Subject'>, <class 'fairgraph.openminds.core.research.subject_group.SubjectGroup'>, <class 'fairgraph.openminds.core.research.tissue_sample.TissueSample'>, <class 'fairgraph.openminds.core.research.tissue_sample_collection.TissueSampleCollection'>), 'https://kg.ebrains.eu/api/instances/d74401a9-24a0-4373-b2b7-60b084b66820'), KGProxy((<class 'fairgraph.openminds.core.research.subject.Subject'>, <class 'fairgraph.openminds.core.research.subject_group.SubjectGroup'>, <class 'fairgraph.openminds.core.research.tissue_sample.TissueSample'>, <class 'fairgraph.openminds.core.research.tissue_sample_collection.TissueSampleCollection'>), 'https://kg.ebrains.eu/api/instances/ed399971-9797-4fc3-8796-094ebdf2432e'), KGProxy((<class 'fairgraph.openminds.core.research.subject.Subject'>, <class 'fairgraph.openminds.core.research.subject_group.SubjectGroup'>, <class 'fairgraph.openminds.core.research.tissue_sample.TissueSample'>, <class 'fairgraph.openminds.core.research.tissue_sample_collection.TissueSampleCollection'>), 'https://kg.ebrains.eu/api/instances/54e0bc42-9ddb-4503-98be-c1f3c03afea1'), KGProxy((<class 'fairgraph.openminds.core.research.subject.Subject'>, <class 'fairgraph.openminds.core.research.subject_group.SubjectGroup'>, <class 'fairgraph.openminds.core.research.tissue_sample.TissueSample'>, <class 'fairgraph.openminds.core.research.tissue_sample_collection.TissueSampleCollection'>), 'https://kg.ebrains.eu/api/instances/d5ea0238-23e7-463e-96f3-4da7c06832e4'), KGProxy((<class 'fairgraph.openminds.core.research.subject.Subject'>, <class 'fairgraph.openminds.core.research.subject_group.SubjectGroup'>, <class 'fairgraph.openminds.core.research.tissue_sample.TissueSample'>, <class 'fairgraph.openminds.core.research.tissue_sample_collection.TissueSampleCollection'>), 'https://kg.ebrains.eu/api/instances/6c00b1a4-d10f-408d-ac00-b07464a73321'), KGProxy((<class 'fairgraph.openminds.core.research.subject.Subject'>, <class 'fairgraph.openminds.core.research.subject_group.SubjectGroup'>, <class 'fairgraph.openminds.core.research.tissue_sample.TissueSample'>, <class 'fairgraph.openminds.core.research.tissue_sample_collection.TissueSampleCollection'>), 'https://kg.ebrains.eu/api/instances/d352f598-0118-4908-ad01-a2c4b5e06028'), KGProxy((<class 'fairgraph.openminds.core.research.subject.Subject'>, <class 'fairgraph.openminds.core.research.subject_group.SubjectGroup'>, <class 'fairgraph.openminds.core.research.tissue_sample.TissueSample'>, <class 'fairgraph.openminds.core.research.tissue_sample_collection.TissueSampleCollection'>), 'https://kg.ebrains.eu/api/instances/a9f319fb-9d41-4500-8eb4-08601053f850'), KGProxy((<class 'fairgraph.openminds.core.research.subject.Subject'>, <class 'fairgraph.openminds.core.research.subject_group.SubjectGroup'>, <class 'fairgraph.openminds.core.research.tissue_sample.TissueSample'>, <class 'fairgraph.openminds.core.research.tissue_sample_collection.TissueSampleCollection'>), 'https://kg.ebrains.eu/api/instances/d2b62075-768e-48f4-ba00-4e8cbbb543e9'), KGProxy((<class 'fairgraph.openminds.core.research.subject.Subject'>, <class 'fairgraph.openminds.core.research.subject_group.SubjectGroup'>, <class 'fairgraph.openminds.core.research.tissue_sample.TissueSample'>, <class 'fairgraph.openminds.core.research.tissue_sample_collection.TissueSampleCollection'>), 'https://kg.ebrains.eu/api/instances/9a83c827-3638-4bc1-92c2-10749d30500b'), KGProxy((<class 'fairgraph.openminds.core.research.subject.Subject'>, <class 'fairgraph.openminds.core.research.subject_group.SubjectGroup'>, <class 'fairgraph.openminds.core.research.tissue_sample.TissueSample'>, <class 'fairgraph.openminds.core.research.tissue_sample_collection.TissueSampleCollection'>), 'https://kg.ebrains.eu/api/instances/dd214b93-8c20-4c70-ac90-584d7f66f344'), KGProxy((<class 'fairgraph.openminds.core.research.subject.Subject'>, <class 'fairgraph.openminds.core.research.subject_group.SubjectGroup'>, <class 'fairgraph.openminds.core.research.tissue_sample.TissueSample'>, <class 'fairgraph.openminds.core.research.tissue_sample_collection.TissueSampleCollection'>), 'https://kg.ebrains.eu/api/instances/d967e53d-277d-4a2f-9090-8c50aaf0a008'), KGProxy((<class 'fairgraph.openminds.core.research.subject.Subject'>, <class 'fairgraph.openminds.core.research.subject_group.SubjectGroup'>, <class 'fairgraph.openminds.core.research.tissue_sample.TissueSample'>, <class 'fairgraph.openminds.core.research.tissue_sample_collection.TissueSampleCollection'>), 'https://kg.ebrains.eu/api/instances/0cad429a-f738-4d1d-9e56-c907b431a8c9'), KGProxy((<class 'fairgraph.openminds.core.research.subject.Subject'>, <class 'fairgraph.openminds.core.research.subject_group.SubjectGroup'>, <class 'fairgraph.openminds.core.research.tissue_sample.TissueSample'>, <class 'fairgraph.openminds.core.research.tissue_sample_collection.TissueSampleCollection'>), 'https://kg.ebrains.eu/api/instances/5f40bc15-d813-4560-92a8-a533109777fb'), KGProxy((<class 'fairgraph.openminds.core.research.subject.Subject'>, <class 'fairgraph.openminds.core.research.subject_group.SubjectGroup'>, <class 'fairgraph.openminds.core.research.tissue_sample.TissueSample'>, <class 'fairgraph.openminds.core.research.tissue_sample_collection.TissueSampleCollection'>), 'https://kg.ebrains.eu/api/instances/0be6ad46-c50d-4a50-8e2b-0eeea708019e'), KGProxy((<class 'fairgraph.openminds.core.research.subject.Subject'>, <class 'fairgraph.openminds.core.research.subject_group.SubjectGroup'>, <class 'fairgraph.openminds.core.research.tissue_sample.TissueSample'>, <class 'fairgraph.openminds.core.research.tissue_sample_collection.TissueSampleCollection'>), 'https://kg.ebrains.eu/api/instances/a7197a22-0b1d-4069-89b2-17aa92910c00'), KGProxy((<class 'fairgraph.openminds.core.research.subject.Subject'>, <class 'fairgraph.openminds.core.research.subject_group.SubjectGroup'>, <class 'fairgraph.openminds.core.research.tissue_sample.TissueSample'>, <class 'fairgraph.openminds.core.research.tissue_sample_collection.TissueSampleCollection'>), 'https://kg.ebrains.eu/api/instances/524e0e51-6a9e-410b-8d23-79ce1b7d97b7'), KGProxy((<class 'fairgraph.openminds.core.research.subject.Subject'>, <class 'fairgraph.openminds.core.research.subject_group.SubjectGroup'>, <class 'fairgraph.openminds.core.research.tissue_sample.TissueSample'>, <class 'fairgraph.openminds.core.research.tissue_sample_collection.TissueSampleCollection'>), 'https://kg.ebrains.eu/api/instances/12f80b23-6bec-4b0a-90c7-b717310fb707'), KGProxy((<class 'fairgraph.openminds.core.research.subject.Subject'>, <class 'fairgraph.openminds.core.research.subject_group.SubjectGroup'>, <class 'fairgraph.openminds.core.research.tissue_sample.TissueSample'>, <class 'fairgraph.openminds.core.research.tissue_sample_collection.TissueSampleCollection'>), 'https://kg.ebrains.eu/api/instances/ae759252-c8e4-4c60-aa4c-308922613371'), KGProxy((<class 'fairgraph.openminds.core.research.subject.Subject'>, <class 'fairgraph.openminds.core.research.subject_group.SubjectGroup'>, <class 'fairgraph.openminds.core.research.tissue_sample.TissueSample'>, <class 'fairgraph.openminds.core.research.tissue_sample_collection.TissueSampleCollection'>), 'https://kg.ebrains.eu/api/instances/e168745f-d7cf-4977-87d0-4dbeba51a9f2'), KGProxy((<class 'fairgraph.openminds.core.research.subject.Subject'>, <class 'fairgraph.openminds.core.research.subject_group.SubjectGroup'>, <class 'fairgraph.openminds.core.research.tissue_sample.TissueSample'>, <class 'fairgraph.openminds.core.research.tissue_sample_collection.TissueSampleCollection'>), 'https://kg.ebrains.eu/api/instances/d44005cd-7d11-471f-9e34-4400463449ee'), KGProxy((<class 'fairgraph.openminds.core.research.subject.Subject'>, <class 'fairgraph.openminds.core.research.subject_group.SubjectGroup'>, <class 'fairgraph.openminds.core.research.tissue_sample.TissueSample'>, <class 'fairgraph.openminds.core.research.tissue_sample_collection.TissueSampleCollection'>), 'https://kg.ebrains.eu/api/instances/7831a6bc-d329-4ff1-a5cf-270c100f9f8a')]\n",
      "study_targets            KGProxy((<class 'fairgraph.openminds.controlled_terms.auditory_stimulus_type.AuditoryStimulusType'>, <class 'fairgraph.openminds.controlled_terms.biological_order.BiologicalOrder'>, <class 'fairgraph.openminds.controlled_terms.biological_sex.BiologicalSex'>, <class 'fairgraph.openminds.controlled_terms.breeding_type.BreedingType'>, <class 'fairgraph.openminds.controlled_terms.cell_culture_type.CellCultureType'>, <class 'fairgraph.openminds.controlled_terms.cell_type.CellType'>, <class 'fairgraph.openminds.controlled_terms.disease.Disease'>, <class 'fairgraph.openminds.controlled_terms.disease_model.DiseaseModel'>, <class 'fairgraph.openminds.controlled_terms.electrical_stimulus_type.ElectricalStimulusType'>, <class 'fairgraph.openminds.controlled_terms.genetic_strain_type.GeneticStrainType'>, <class 'fairgraph.openminds.controlled_terms.gustatory_stimulus_type.GustatoryStimulusType'>, <class 'fairgraph.openminds.controlled_terms.handedness.Handedness'>, <class 'fairgraph.openminds.controlled_terms.molecular_entity.MolecularEntity'>, <class 'fairgraph.openminds.controlled_terms.olfactory_stimulus_type.OlfactoryStimulusType'>, <class 'fairgraph.openminds.controlled_terms.optical_stimulus_type.OpticalStimulusType'>, <class 'fairgraph.openminds.controlled_terms.organ.Organ'>, <class 'fairgraph.openminds.controlled_terms.organism_substance.OrganismSubstance'>, <class 'fairgraph.openminds.controlled_terms.organism_system.OrganismSystem'>, <class 'fairgraph.openminds.controlled_terms.species.Species'>, <class 'fairgraph.openminds.controlled_terms.subcellular_entity.SubcellularEntity'>, <class 'fairgraph.openminds.controlled_terms.tactile_stimulus_type.TactileStimulusType'>, <class 'fairgraph.openminds.controlled_terms.term_suggestion.TermSuggestion'>, <class 'fairgraph.openminds.controlled_terms.tissue_sample_type.TissueSampleType'>, <class 'fairgraph.openminds.controlled_terms.uberon_parcellation.UBERONParcellation'>, <class 'fairgraph.openminds.controlled_terms.visual_stimulus_type.VisualStimulusType'>, <class 'fairgraph.openminds.sands.non_atlas.custom_anatomical_entity.CustomAnatomicalEntity'>, <class 'fairgraph.openminds.sands.atlas.parcellation_entity.ParcellationEntity'>, <class 'fairgraph.openminds.sands.atlas.parcellation_entity_version.ParcellationEntityVersion'>), 'https://kg.ebrains.eu/api/instances/161baa02-4e08-4cf2-a641-81cf323cc15d')\n",
      "techniques               [KGProxy((<class 'fairgraph.openminds.controlled_terms.analysis_technique.AnalysisTechnique'>, <class 'fairgraph.openminds.controlled_terms.mri_pulse_sequence.MRIPulseSequence'>, <class 'fairgraph.openminds.controlled_terms.mri_weighting.MRIWeighting'>, <class 'fairgraph.openminds.controlled_terms.stimulation_approach.StimulationApproach'>, <class 'fairgraph.openminds.controlled_terms.stimulation_technique.StimulationTechnique'>, <class 'fairgraph.openminds.controlled_terms.technique.Technique'>), 'https://kg.ebrains.eu/api/instances/dc0bbc6c-99f5-4d3b-9c5e-e1bb7d59aa63'), KGProxy((<class 'fairgraph.openminds.controlled_terms.analysis_technique.AnalysisTechnique'>, <class 'fairgraph.openminds.controlled_terms.mri_pulse_sequence.MRIPulseSequence'>, <class 'fairgraph.openminds.controlled_terms.mri_weighting.MRIWeighting'>, <class 'fairgraph.openminds.controlled_terms.stimulation_approach.StimulationApproach'>, <class 'fairgraph.openminds.controlled_terms.stimulation_technique.StimulationTechnique'>, <class 'fairgraph.openminds.controlled_terms.technique.Technique'>), 'https://kg.ebrains.eu/api/instances/ffc1c922-5ba9-4f03-b9be-05eb6fd0f294')]\n",
      "version_identifier       v1\n",
      "version_innovation       This is the first version of this research product.\n"
     ]
    }
   ],
   "source": [
    "dataset_version.show()"
   ]
  },
  {
   "cell_type": "markdown",
   "metadata": {},
   "source": [
    "<!-- Notes to self: \n",
    "\n",
    "1. rename KGProxy to Link?\n",
    "2. add an `open_in_search_ui()` method\n",
    "\n",
    "-->"
   ]
  },
  {
   "cell_type": "markdown",
   "metadata": {},
   "source": [
    "You can view the same dataset in the KG Search UI by clicking on this link: https://search.kg.ebrains.eu/instances/bd5f91ff-e829-4b85-92eb-fc56991541f1.\n",
    "\n",
    "You will notice in the output from `.show()` that:\n",
    "\n",
    "1. for many of the properties, the value is a `KGProxy()` object, or a list of such objects. These represent links to other nodes in the graph. To see what these nodes contain, we need to follow them.\n",
    "2. the \"description\" property is empty, even though the dataset card in the Search UI contains a description. We'll come back to this in Section 5, below."
   ]
  },
  {
   "cell_type": "markdown",
   "metadata": {},
   "source": [
    "## 4. Following links in the graph\n",
    "\n",
    "To follow links in the graph, we use the `resolve()` method:"
   ]
  },
  {
   "cell_type": "code",
   "execution_count": 4,
   "metadata": {},
   "outputs": [
    {
     "name": "stdout",
     "output_type": "stream",
     "text": [
      "id          https://kg.ebrains.eu/api/instances/b2ff7a47-b349-48d7-8ce4-cf51868675f1\n",
      "space       controlled\n",
      "type        https://openminds.ebrains.eu/controlledTerms/ProductAccessibility\n",
      "definition  With 'free access' selected, data and metadata are both released and become immediately available without any access restrictions.\n",
      "name        free access\n"
     ]
    }
   ],
   "source": [
    "accessibility = dataset_version.accessibility.resolve(kg_client)\n",
    "accessibility.show()"
   ]
  },
  {
   "cell_type": "code",
   "execution_count": 5,
   "metadata": {},
   "outputs": [
    {
     "name": "stdout",
     "output_type": "stream",
     "text": [
      "id          https://kg.ebrains.eu/api/instances/df93b012-3bb6-4565-bce0-3bd2d3aed63b\n",
      "space       dataset\n",
      "type        https://openminds.ebrains.eu/core/DOI\n",
      "identifier  https://doi.org/10.25493/YJFW-HPY\n"
     ]
    }
   ],
   "source": [
    "doi = dataset_version.digital_identifier.resolve(kg_client)\n",
    "doi.show()"
   ]
  },
  {
   "cell_type": "code",
   "execution_count": 6,
   "metadata": {},
   "outputs": [
    {
     "name": "stdout",
     "output_type": "stream",
     "text": [
      "current clamp\n",
      "whole cell patch clamp\n"
     ]
    }
   ],
   "source": [
    "techniques = [tech.resolve(kg_client) for tech in dataset_version.techniques]\n",
    "for tech in techniques:\n",
    "    print(tech.name)"
   ]
  },
  {
   "cell_type": "markdown",
   "metadata": {},
   "source": [
    "### Reverse links\n",
    "\n",
    "We can also follow *reverse* links, i.e. where the property of another object points *to* the dataset version.\n",
    "Reverse properties are not shown by default by `obj.show()`, but you can see them by passing the `include_empty_properties` option:"
   ]
  },
  {
   "cell_type": "code",
   "execution_count": 7,
   "metadata": {},
   "outputs": [
    {
     "name": "stdout",
     "output_type": "stream",
     "text": [
      "id                         https://kg.ebrains.eu/api/instances/bd5f91ff-e829-4b85-92eb-fc56991541f1\n",
      "space                      dataset\n",
      "type                       https://openminds.ebrains.eu/core/DatasetVersion\n",
      "accessibility              KGProxy([<class 'fairgraph.openminds.controlled_terms.product_accessibility.ProductAccessibility'>], 'https://kg.ebrains.eu/api/instances/b2ff7a47-b349-48d7-8ce4-cf51868675f1')\n",
      "authors                    None\n",
      "behavioral_protocols       None\n",
      "copyright                  None\n",
      "custodians                 None\n",
      "data_types                 KGProxy([<class 'fairgraph.openminds.controlled_terms.semantic_data_type.SemanticDataType'>], 'https://kg.ebrains.eu/api/instances/f468ee45-37a6-4e71-8b70-0cbe66d367db')\n",
      "description\n",
      "digital_identifier         KGProxy((<class 'fairgraph.openminds.core.digital_identifier.doi.DOI'>, <class 'fairgraph.openminds.core.digital_identifier.identifiers_dot_org_id.IdentifiersDotOrgID'>), 'https://kg.ebrains.eu/api/instances/df93b012-3bb6-4565-bce0-3bd2d3aed63b')\n",
      "ethics_assessment          KGProxy([<class 'fairgraph.openminds.controlled_terms.ethics_assessment.EthicsAssessment'>], 'https://kg.ebrains.eu/api/instances/a217a2f8-dcb8-4ca9-9923-517af2aebc5b')\n",
      "experimental_approaches    KGProxy([<class 'fairgraph.openminds.controlled_terms.experimental_approach.ExperimentalApproach'>], 'https://kg.ebrains.eu/api/instances/411b233f-a054-4719-bbd5-e86f1302bc46')\n",
      "full_documentation         KGProxy((<class 'fairgraph.openminds.core.digital_identifier.doi.DOI'>, <class 'fairgraph.openminds.core.data.file.File'>, <class 'fairgraph.openminds.core.digital_identifier.isbn.ISBN'>, <class 'fairgraph.openminds.core.miscellaneous.web_resource.WebResource'>), 'https://kg.ebrains.eu/api/instances/a245c132-30ae-4ba8-a1d1-3a0f44d056aa')\n",
      "full_name                  Excitability profile of CA1 pyramidal neurons in APPPS1 Alzheimer disease mice and control littermates\n",
      "funding                    None\n",
      "homepage                   None\n",
      "how_to_cite                None\n",
      "input_data                 None\n",
      "is_alternative_version_of  None\n",
      "is_new_version_of          None\n",
      "keywords                   KGProxy((<class 'fairgraph.openminds.controlled_terms.action_status_type.ActionStatusType'>, <class 'fairgraph.openminds.controlled_terms.age_category.AgeCategory'>, <class 'fairgraph.openminds.controlled_terms.analysis_technique.AnalysisTechnique'>, <class 'fairgraph.openminds.controlled_terms.anatomical_axes_orientation.AnatomicalAxesOrientation'>, <class 'fairgraph.openminds.controlled_terms.anatomical_identification_type.AnatomicalIdentificationType'>, <class 'fairgraph.openminds.controlled_terms.anatomical_plane.AnatomicalPlane'>, <class 'fairgraph.openminds.controlled_terms.annotation_criteria_type.AnnotationCriteriaType'>, <class 'fairgraph.openminds.controlled_terms.annotation_type.AnnotationType'>, <class 'fairgraph.openminds.controlled_terms.atlas_type.AtlasType'>, <class 'fairgraph.openminds.controlled_terms.auditory_stimulus_type.AuditoryStimulusType'>, <class 'fairgraph.openminds.controlled_terms.biological_order.BiologicalOrder'>, <class 'fairgraph.openminds.controlled_terms.biological_process.BiologicalProcess'>, <class 'fairgraph.openminds.controlled_terms.biological_sex.BiologicalSex'>, <class 'fairgraph.openminds.controlled_terms.breeding_type.BreedingType'>, <class 'fairgraph.openminds.controlled_terms.cell_culture_type.CellCultureType'>, <class 'fairgraph.openminds.controlled_terms.cell_type.CellType'>, <class 'fairgraph.openminds.controlled_terms.chemical_mixture_type.ChemicalMixtureType'>, <class 'fairgraph.openminds.controlled_terms.colormap.Colormap'>, <class 'fairgraph.openminds.controlled_terms.contribution_type.ContributionType'>, <class 'fairgraph.openminds.controlled_terms.cranial_window_construction_type.CranialWindowConstructionType'>, <class 'fairgraph.openminds.controlled_terms.cranial_window_reinforcement_type.CranialWindowReinforcementType'>, <class 'fairgraph.openminds.controlled_terms.criteria_quality_type.CriteriaQualityType'>, <class 'fairgraph.openminds.controlled_terms.data_type.DataType'>, <class 'fairgraph.openminds.controlled_terms.device_type.DeviceType'>, <class 'fairgraph.openminds.controlled_terms.difference_measure.DifferenceMeasure'>, <class 'fairgraph.openminds.controlled_terms.disease.Disease'>, <class 'fairgraph.openminds.controlled_terms.disease_model.DiseaseModel'>, <class 'fairgraph.openminds.controlled_terms.educational_level.EducationalLevel'>, <class 'fairgraph.openminds.controlled_terms.electrical_stimulus_type.ElectricalStimulusType'>, <class 'fairgraph.openminds.controlled_terms.ethics_assessment.EthicsAssessment'>, <class 'fairgraph.openminds.controlled_terms.experimental_approach.ExperimentalApproach'>, <class 'fairgraph.openminds.controlled_terms.file_bundle_grouping.FileBundleGrouping'>, <class 'fairgraph.openminds.controlled_terms.file_repository_type.FileRepositoryType'>, <class 'fairgraph.openminds.controlled_terms.file_usage_role.FileUsageRole'>, <class 'fairgraph.openminds.controlled_terms.genetic_strain_type.GeneticStrainType'>, <class 'fairgraph.openminds.controlled_terms.gustatory_stimulus_type.GustatoryStimulusType'>, <class 'fairgraph.openminds.controlled_terms.handedness.Handedness'>, <class 'fairgraph.openminds.controlled_terms.language.Language'>, <class 'fairgraph.openminds.controlled_terms.laterality.Laterality'>, <class 'fairgraph.openminds.controlled_terms.learning_resource_type.LearningResourceType'>, <class 'fairgraph.openminds.controlled_terms.mri_pulse_sequence.MRIPulseSequence'>, <class 'fairgraph.openminds.controlled_terms.mri_weighting.MRIWeighting'>, <class 'fairgraph.openminds.controlled_terms.measured_quantity.MeasuredQuantity'>, <class 'fairgraph.openminds.controlled_terms.measured_signal_type.MeasuredSignalType'>, <class 'fairgraph.openminds.controlled_terms.meta_data_model_type.MetaDataModelType'>, <class 'fairgraph.openminds.controlled_terms.model_abstraction_level.ModelAbstractionLevel'>, <class 'fairgraph.openminds.controlled_terms.model_scope.ModelScope'>, <class 'fairgraph.openminds.controlled_terms.molecular_entity.MolecularEntity'>, <class 'fairgraph.openminds.controlled_terms.olfactory_stimulus_type.OlfactoryStimulusType'>, <class 'fairgraph.openminds.controlled_terms.operating_device.OperatingDevice'>, <class 'fairgraph.openminds.controlled_terms.operating_system.OperatingSystem'>, <class 'fairgraph.openminds.controlled_terms.optical_stimulus_type.OpticalStimulusType'>, <class 'fairgraph.openminds.controlled_terms.organ.Organ'>, <class 'fairgraph.openminds.controlled_terms.organism_substance.OrganismSubstance'>, <class 'fairgraph.openminds.controlled_terms.organism_system.OrganismSystem'>, <class 'fairgraph.openminds.controlled_terms.patch_clamp_variation.PatchClampVariation'>, <class 'fairgraph.openminds.controlled_terms.preparation_type.PreparationType'>, <class 'fairgraph.openminds.controlled_terms.product_accessibility.ProductAccessibility'>, <class 'fairgraph.openminds.controlled_terms.programming_language.ProgrammingLanguage'>, <class 'fairgraph.openminds.controlled_terms.qualitative_overlap.QualitativeOverlap'>, <class 'fairgraph.openminds.controlled_terms.semantic_data_type.SemanticDataType'>, <class 'fairgraph.openminds.controlled_terms.service.Service'>, <class 'fairgraph.openminds.controlled_terms.setup_type.SetupType'>, <class 'fairgraph.openminds.controlled_terms.software_application_category.SoftwareApplicationCategory'>, <class 'fairgraph.openminds.controlled_terms.software_feature.SoftwareFeature'>, <class 'fairgraph.openminds.controlled_terms.species.Species'>, <class 'fairgraph.openminds.controlled_terms.stimulation_approach.StimulationApproach'>, <class 'fairgraph.openminds.controlled_terms.stimulation_technique.StimulationTechnique'>, <class 'fairgraph.openminds.controlled_terms.subcellular_entity.SubcellularEntity'>, <class 'fairgraph.openminds.controlled_terms.subject_attribute.SubjectAttribute'>, <class 'fairgraph.openminds.controlled_terms.tactile_stimulus_type.TactileStimulusType'>, <class 'fairgraph.openminds.controlled_terms.technique.Technique'>, <class 'fairgraph.openminds.controlled_terms.term_suggestion.TermSuggestion'>, <class 'fairgraph.openminds.controlled_terms.terminology.Terminology'>, <class 'fairgraph.openminds.controlled_terms.tissue_sample_attribute.TissueSampleAttribute'>, <class 'fairgraph.openminds.controlled_terms.tissue_sample_type.TissueSampleType'>, <class 'fairgraph.openminds.controlled_terms.type_of_uncertainty.TypeOfUncertainty'>, <class 'fairgraph.openminds.controlled_terms.uberon_parcellation.UBERONParcellation'>, <class 'fairgraph.openminds.controlled_terms.unit_of_measurement.UnitOfMeasurement'>, <class 'fairgraph.openminds.controlled_terms.visual_stimulus_type.VisualStimulusType'>), 'https://kg.ebrains.eu/api/instances/62034f18-20fc-46d6-8f0a-277a60cb02e9')\n",
      "license                    KGProxy((<class 'fairgraph.openminds.core.data.license.License'>, <class 'fairgraph.openminds.core.miscellaneous.web_resource.WebResource'>), 'https://kg.ebrains.eu/api/instances/64c1704b-db12-4b29-9541-b9143d081044')\n",
      "other_contributions        None\n",
      "preparation_designs        KGProxy([<class 'fairgraph.openminds.controlled_terms.preparation_type.PreparationType'>], 'https://kg.ebrains.eu/api/instances/9f3abe1b-af7c-446d-b637-6a4f19ab7939')\n",
      "protocols                  None\n",
      "related_publications       KGProxy((<class 'fairgraph.openminds.core.digital_identifier.doi.DOI'>, <class 'fairgraph.openminds.core.digital_identifier.handle.HANDLE'>, <class 'fairgraph.openminds.core.digital_identifier.isbn.ISBN'>, <class 'fairgraph.openminds.core.digital_identifier.issn.ISSN'>, <class 'fairgraph.openminds.publications.book.Book'>, <class 'fairgraph.openminds.publications.chapter.Chapter'>, <class 'fairgraph.openminds.publications.scholarly_article.ScholarlyArticle'>), 'https://kg.ebrains.eu/api/instances/5f477d01-82c1-4c6a-891c-e902a8c2241c')\n",
      "release_date               2020-04-21 00:00:00\n",
      "repository                 KGProxy([<class 'fairgraph.openminds.core.data.file_repository.FileRepository'>], 'https://kg.ebrains.eu/api/instances/1a319b34-4903-4663-8882-b3fe5703cbcb')\n",
      "short_name                 Excitability profile of CA1 pyramidal neurons in APPPS1 Alzheimer disease mice and control littermates\n",
      "studied_specimens          [KGProxy((<class 'fairgraph.openminds.core.research.subject.Subject'>, <class 'fairgraph.openminds.core.research.subject_group.SubjectGroup'>, <class 'fairgraph.openminds.core.research.tissue_sample.TissueSample'>, <class 'fairgraph.openminds.core.research.tissue_sample_collection.TissueSampleCollection'>), 'https://kg.ebrains.eu/api/instances/d04d00c7-b770-4744-a5f4-2ebba26ba1d1'), KGProxy((<class 'fairgraph.openminds.core.research.subject.Subject'>, <class 'fairgraph.openminds.core.research.subject_group.SubjectGroup'>, <class 'fairgraph.openminds.core.research.tissue_sample.TissueSample'>, <class 'fairgraph.openminds.core.research.tissue_sample_collection.TissueSampleCollection'>), 'https://kg.ebrains.eu/api/instances/31f9157a-616b-43b4-8a04-8fd8c15a7524'), KGProxy((<class 'fairgraph.openminds.core.research.subject.Subject'>, <class 'fairgraph.openminds.core.research.subject_group.SubjectGroup'>, <class 'fairgraph.openminds.core.research.tissue_sample.TissueSample'>, <class 'fairgraph.openminds.core.research.tissue_sample_collection.TissueSampleCollection'>), 'https://kg.ebrains.eu/api/instances/853682c7-c317-4091-b3eb-f94ce41a70a5'), KGProxy((<class 'fairgraph.openminds.core.research.subject.Subject'>, <class 'fairgraph.openminds.core.research.subject_group.SubjectGroup'>, <class 'fairgraph.openminds.core.research.tissue_sample.TissueSample'>, <class 'fairgraph.openminds.core.research.tissue_sample_collection.TissueSampleCollection'>), 'https://kg.ebrains.eu/api/instances/8300e9c8-ddce-4b72-811a-96f1f7dc0d4b'), KGProxy((<class 'fairgraph.openminds.core.research.subject.Subject'>, <class 'fairgraph.openminds.core.research.subject_group.SubjectGroup'>, <class 'fairgraph.openminds.core.research.tissue_sample.TissueSample'>, <class 'fairgraph.openminds.core.research.tissue_sample_collection.TissueSampleCollection'>), 'https://kg.ebrains.eu/api/instances/eca80107-1908-43cc-8897-5074f50dbe22'), KGProxy((<class 'fairgraph.openminds.core.research.subject.Subject'>, <class 'fairgraph.openminds.core.research.subject_group.SubjectGroup'>, <class 'fairgraph.openminds.core.research.tissue_sample.TissueSample'>, <class 'fairgraph.openminds.core.research.tissue_sample_collection.TissueSampleCollection'>), 'https://kg.ebrains.eu/api/instances/d74401a9-24a0-4373-b2b7-60b084b66820'), KGProxy((<class 'fairgraph.openminds.core.research.subject.Subject'>, <class 'fairgraph.openminds.core.research.subject_group.SubjectGroup'>, <class 'fairgraph.openminds.core.research.tissue_sample.TissueSample'>, <class 'fairgraph.openminds.core.research.tissue_sample_collection.TissueSampleCollection'>), 'https://kg.ebrains.eu/api/instances/ed399971-9797-4fc3-8796-094ebdf2432e'), KGProxy((<class 'fairgraph.openminds.core.research.subject.Subject'>, <class 'fairgraph.openminds.core.research.subject_group.SubjectGroup'>, <class 'fairgraph.openminds.core.research.tissue_sample.TissueSample'>, <class 'fairgraph.openminds.core.research.tissue_sample_collection.TissueSampleCollection'>), 'https://kg.ebrains.eu/api/instances/54e0bc42-9ddb-4503-98be-c1f3c03afea1'), KGProxy((<class 'fairgraph.openminds.core.research.subject.Subject'>, <class 'fairgraph.openminds.core.research.subject_group.SubjectGroup'>, <class 'fairgraph.openminds.core.research.tissue_sample.TissueSample'>, <class 'fairgraph.openminds.core.research.tissue_sample_collection.TissueSampleCollection'>), 'https://kg.ebrains.eu/api/instances/d5ea0238-23e7-463e-96f3-4da7c06832e4'), KGProxy((<class 'fairgraph.openminds.core.research.subject.Subject'>, <class 'fairgraph.openminds.core.research.subject_group.SubjectGroup'>, <class 'fairgraph.openminds.core.research.tissue_sample.TissueSample'>, <class 'fairgraph.openminds.core.research.tissue_sample_collection.TissueSampleCollection'>), 'https://kg.ebrains.eu/api/instances/6c00b1a4-d10f-408d-ac00-b07464a73321'), KGProxy((<class 'fairgraph.openminds.core.research.subject.Subject'>, <class 'fairgraph.openminds.core.research.subject_group.SubjectGroup'>, <class 'fairgraph.openminds.core.research.tissue_sample.TissueSample'>, <class 'fairgraph.openminds.core.research.tissue_sample_collection.TissueSampleCollection'>), 'https://kg.ebrains.eu/api/instances/d352f598-0118-4908-ad01-a2c4b5e06028'), KGProxy((<class 'fairgraph.openminds.core.research.subject.Subject'>, <class 'fairgraph.openminds.core.research.subject_group.SubjectGroup'>, <class 'fairgraph.openminds.core.research.tissue_sample.TissueSample'>, <class 'fairgraph.openminds.core.research.tissue_sample_collection.TissueSampleCollection'>), 'https://kg.ebrains.eu/api/instances/a9f319fb-9d41-4500-8eb4-08601053f850'), KGProxy((<class 'fairgraph.openminds.core.research.subject.Subject'>, <class 'fairgraph.openminds.core.research.subject_group.SubjectGroup'>, <class 'fairgraph.openminds.core.research.tissue_sample.TissueSample'>, <class 'fairgraph.openminds.core.research.tissue_sample_collection.TissueSampleCollection'>), 'https://kg.ebrains.eu/api/instances/d2b62075-768e-48f4-ba00-4e8cbbb543e9'), KGProxy((<class 'fairgraph.openminds.core.research.subject.Subject'>, <class 'fairgraph.openminds.core.research.subject_group.SubjectGroup'>, <class 'fairgraph.openminds.core.research.tissue_sample.TissueSample'>, <class 'fairgraph.openminds.core.research.tissue_sample_collection.TissueSampleCollection'>), 'https://kg.ebrains.eu/api/instances/9a83c827-3638-4bc1-92c2-10749d30500b'), KGProxy((<class 'fairgraph.openminds.core.research.subject.Subject'>, <class 'fairgraph.openminds.core.research.subject_group.SubjectGroup'>, <class 'fairgraph.openminds.core.research.tissue_sample.TissueSample'>, <class 'fairgraph.openminds.core.research.tissue_sample_collection.TissueSampleCollection'>), 'https://kg.ebrains.eu/api/instances/dd214b93-8c20-4c70-ac90-584d7f66f344'), KGProxy((<class 'fairgraph.openminds.core.research.subject.Subject'>, <class 'fairgraph.openminds.core.research.subject_group.SubjectGroup'>, <class 'fairgraph.openminds.core.research.tissue_sample.TissueSample'>, <class 'fairgraph.openminds.core.research.tissue_sample_collection.TissueSampleCollection'>), 'https://kg.ebrains.eu/api/instances/d967e53d-277d-4a2f-9090-8c50aaf0a008'), KGProxy((<class 'fairgraph.openminds.core.research.subject.Subject'>, <class 'fairgraph.openminds.core.research.subject_group.SubjectGroup'>, <class 'fairgraph.openminds.core.research.tissue_sample.TissueSample'>, <class 'fairgraph.openminds.core.research.tissue_sample_collection.TissueSampleCollection'>), 'https://kg.ebrains.eu/api/instances/0cad429a-f738-4d1d-9e56-c907b431a8c9'), KGProxy((<class 'fairgraph.openminds.core.research.subject.Subject'>, <class 'fairgraph.openminds.core.research.subject_group.SubjectGroup'>, <class 'fairgraph.openminds.core.research.tissue_sample.TissueSample'>, <class 'fairgraph.openminds.core.research.tissue_sample_collection.TissueSampleCollection'>), 'https://kg.ebrains.eu/api/instances/5f40bc15-d813-4560-92a8-a533109777fb'), KGProxy((<class 'fairgraph.openminds.core.research.subject.Subject'>, <class 'fairgraph.openminds.core.research.subject_group.SubjectGroup'>, <class 'fairgraph.openminds.core.research.tissue_sample.TissueSample'>, <class 'fairgraph.openminds.core.research.tissue_sample_collection.TissueSampleCollection'>), 'https://kg.ebrains.eu/api/instances/0be6ad46-c50d-4a50-8e2b-0eeea708019e'), KGProxy((<class 'fairgraph.openminds.core.research.subject.Subject'>, <class 'fairgraph.openminds.core.research.subject_group.SubjectGroup'>, <class 'fairgraph.openminds.core.research.tissue_sample.TissueSample'>, <class 'fairgraph.openminds.core.research.tissue_sample_collection.TissueSampleCollection'>), 'https://kg.ebrains.eu/api/instances/a7197a22-0b1d-4069-89b2-17aa92910c00'), KGProxy((<class 'fairgraph.openminds.core.research.subject.Subject'>, <class 'fairgraph.openminds.core.research.subject_group.SubjectGroup'>, <class 'fairgraph.openminds.core.research.tissue_sample.TissueSample'>, <class 'fairgraph.openminds.core.research.tissue_sample_collection.TissueSampleCollection'>), 'https://kg.ebrains.eu/api/instances/524e0e51-6a9e-410b-8d23-79ce1b7d97b7'), KGProxy((<class 'fairgraph.openminds.core.research.subject.Subject'>, <class 'fairgraph.openminds.core.research.subject_group.SubjectGroup'>, <class 'fairgraph.openminds.core.research.tissue_sample.TissueSample'>, <class 'fairgraph.openminds.core.research.tissue_sample_collection.TissueSampleCollection'>), 'https://kg.ebrains.eu/api/instances/12f80b23-6bec-4b0a-90c7-b717310fb707'), KGProxy((<class 'fairgraph.openminds.core.research.subject.Subject'>, <class 'fairgraph.openminds.core.research.subject_group.SubjectGroup'>, <class 'fairgraph.openminds.core.research.tissue_sample.TissueSample'>, <class 'fairgraph.openminds.core.research.tissue_sample_collection.TissueSampleCollection'>), 'https://kg.ebrains.eu/api/instances/ae759252-c8e4-4c60-aa4c-308922613371'), KGProxy((<class 'fairgraph.openminds.core.research.subject.Subject'>, <class 'fairgraph.openminds.core.research.subject_group.SubjectGroup'>, <class 'fairgraph.openminds.core.research.tissue_sample.TissueSample'>, <class 'fairgraph.openminds.core.research.tissue_sample_collection.TissueSampleCollection'>), 'https://kg.ebrains.eu/api/instances/e168745f-d7cf-4977-87d0-4dbeba51a9f2'), KGProxy((<class 'fairgraph.openminds.core.research.subject.Subject'>, <class 'fairgraph.openminds.core.research.subject_group.SubjectGroup'>, <class 'fairgraph.openminds.core.research.tissue_sample.TissueSample'>, <class 'fairgraph.openminds.core.research.tissue_sample_collection.TissueSampleCollection'>), 'https://kg.ebrains.eu/api/instances/d44005cd-7d11-471f-9e34-4400463449ee'), KGProxy((<class 'fairgraph.openminds.core.research.subject.Subject'>, <class 'fairgraph.openminds.core.research.subject_group.SubjectGroup'>, <class 'fairgraph.openminds.core.research.tissue_sample.TissueSample'>, <class 'fairgraph.openminds.core.research.tissue_sample_collection.TissueSampleCollection'>), 'https://kg.ebrains.eu/api/instances/7831a6bc-d329-4ff1-a5cf-270c100f9f8a')]\n",
      "study_targets              KGProxy((<class 'fairgraph.openminds.controlled_terms.auditory_stimulus_type.AuditoryStimulusType'>, <class 'fairgraph.openminds.controlled_terms.biological_order.BiologicalOrder'>, <class 'fairgraph.openminds.controlled_terms.biological_sex.BiologicalSex'>, <class 'fairgraph.openminds.controlled_terms.breeding_type.BreedingType'>, <class 'fairgraph.openminds.controlled_terms.cell_culture_type.CellCultureType'>, <class 'fairgraph.openminds.controlled_terms.cell_type.CellType'>, <class 'fairgraph.openminds.controlled_terms.disease.Disease'>, <class 'fairgraph.openminds.controlled_terms.disease_model.DiseaseModel'>, <class 'fairgraph.openminds.controlled_terms.electrical_stimulus_type.ElectricalStimulusType'>, <class 'fairgraph.openminds.controlled_terms.genetic_strain_type.GeneticStrainType'>, <class 'fairgraph.openminds.controlled_terms.gustatory_stimulus_type.GustatoryStimulusType'>, <class 'fairgraph.openminds.controlled_terms.handedness.Handedness'>, <class 'fairgraph.openminds.controlled_terms.molecular_entity.MolecularEntity'>, <class 'fairgraph.openminds.controlled_terms.olfactory_stimulus_type.OlfactoryStimulusType'>, <class 'fairgraph.openminds.controlled_terms.optical_stimulus_type.OpticalStimulusType'>, <class 'fairgraph.openminds.controlled_terms.organ.Organ'>, <class 'fairgraph.openminds.controlled_terms.organism_substance.OrganismSubstance'>, <class 'fairgraph.openminds.controlled_terms.organism_system.OrganismSystem'>, <class 'fairgraph.openminds.controlled_terms.species.Species'>, <class 'fairgraph.openminds.controlled_terms.subcellular_entity.SubcellularEntity'>, <class 'fairgraph.openminds.controlled_terms.tactile_stimulus_type.TactileStimulusType'>, <class 'fairgraph.openminds.controlled_terms.term_suggestion.TermSuggestion'>, <class 'fairgraph.openminds.controlled_terms.tissue_sample_type.TissueSampleType'>, <class 'fairgraph.openminds.controlled_terms.uberon_parcellation.UBERONParcellation'>, <class 'fairgraph.openminds.controlled_terms.visual_stimulus_type.VisualStimulusType'>, <class 'fairgraph.openminds.sands.non_atlas.custom_anatomical_entity.CustomAnatomicalEntity'>, <class 'fairgraph.openminds.sands.atlas.parcellation_entity.ParcellationEntity'>, <class 'fairgraph.openminds.sands.atlas.parcellation_entity_version.ParcellationEntityVersion'>), 'https://kg.ebrains.eu/api/instances/161baa02-4e08-4cf2-a641-81cf323cc15d')\n",
      "support_channels           None\n",
      "techniques                 [KGProxy((<class 'fairgraph.openminds.controlled_terms.analysis_technique.AnalysisTechnique'>, <class 'fairgraph.openminds.controlled_terms.mri_pulse_sequence.MRIPulseSequence'>, <class 'fairgraph.openminds.controlled_terms.mri_weighting.MRIWeighting'>, <class 'fairgraph.openminds.controlled_terms.stimulation_approach.StimulationApproach'>, <class 'fairgraph.openminds.controlled_terms.stimulation_technique.StimulationTechnique'>, <class 'fairgraph.openminds.controlled_terms.technique.Technique'>), 'https://kg.ebrains.eu/api/instances/dc0bbc6c-99f5-4d3b-9c5e-e1bb7d59aa63'), KGProxy((<class 'fairgraph.openminds.controlled_terms.analysis_technique.AnalysisTechnique'>, <class 'fairgraph.openminds.controlled_terms.mri_pulse_sequence.MRIPulseSequence'>, <class 'fairgraph.openminds.controlled_terms.mri_weighting.MRIWeighting'>, <class 'fairgraph.openminds.controlled_terms.stimulation_approach.StimulationApproach'>, <class 'fairgraph.openminds.controlled_terms.stimulation_technique.StimulationTechnique'>, <class 'fairgraph.openminds.controlled_terms.technique.Technique'>), 'https://kg.ebrains.eu/api/instances/ffc1c922-5ba9-4f03-b9be-05eb6fd0f294')]\n",
      "version_identifier         v1\n",
      "version_innovation         This is the first version of this research product.\n",
      "comments                   KGQuery([<class 'fairgraph.openminds.core.miscellaneous.comment.Comment'>], {'about': 'https://kg.ebrains.eu/api/instances/bd5f91ff-e829-4b85-92eb-fc56991541f1'})\n",
      "has_parts                  KGQuery([<class 'fairgraph.openminds.core.research.protocol_execution.ProtocolExecution'>, <class 'fairgraph.openminds.ephys.activity.cell_patching.CellPatching'>, <class 'fairgraph.openminds.ephys.activity.electrode_placement.ElectrodePlacement'>, <class 'fairgraph.openminds.ephys.activity.recording_activity.RecordingActivity'>, <class 'fairgraph.openminds.specimen_prep.activity.cranial_window_preparation.CranialWindowPreparation'>, <class 'fairgraph.openminds.specimen_prep.activity.tissue_culture_preparation.TissueCulturePreparation'>, <class 'fairgraph.openminds.specimen_prep.activity.tissue_sample_slicing.TissueSampleSlicing'>, <class 'fairgraph.openminds.stimulation.activity.stimulation_activity.StimulationActivity'>], {'is_part_of': 'https://kg.ebrains.eu/api/instances/bd5f91ff-e829-4b85-92eb-fc56991541f1'})\n",
      "is_input_to                KGQuery([<class 'fairgraph.openminds.computation.data_copy.DataCopy'>], {'inputs': 'https://kg.ebrains.eu/api/instances/bd5f91ff-e829-4b85-92eb-fc56991541f1'})\n",
      "is_old_version_of          KGQuery([<class 'fairgraph.openminds.core.products.dataset_version.DatasetVersion'>], {'is_new_version_of': 'https://kg.ebrains.eu/api/instances/bd5f91ff-e829-4b85-92eb-fc56991541f1'})\n",
      "is_part_of                 KGQuery([<class 'fairgraph.openminds.core.products.project.Project'>, <class 'fairgraph.openminds.core.miscellaneous.research_product_group.ResearchProductGroup'>], {'has_parts': 'https://kg.ebrains.eu/api/instances/bd5f91ff-e829-4b85-92eb-fc56991541f1'})\n",
      "is_version_of              KGQuery([<class 'fairgraph.openminds.core.products.dataset.Dataset'>], {'has_versions': 'https://kg.ebrains.eu/api/instances/bd5f91ff-e829-4b85-92eb-fc56991541f1'})\n",
      "learning_resources         KGQuery([<class 'fairgraph.openminds.publications.learning_resource.LearningResource'>], {'about': 'https://kg.ebrains.eu/api/instances/bd5f91ff-e829-4b85-92eb-fc56991541f1'})\n",
      "publication                KGQuery([<class 'fairgraph.openminds.publications.live_paper_version.LivePaperVersion'>], {'about': 'https://kg.ebrains.eu/api/instances/bd5f91ff-e829-4b85-92eb-fc56991541f1'})\n"
     ]
    }
   ],
   "source": [
    "dataset_version.show(include_empty_properties=True)"
   ]
  },
  {
   "cell_type": "markdown",
   "metadata": {},
   "source": [
    "Reverse properties are represented by a `KGQuery` object. These can also be resolved:"
   ]
  },
  {
   "cell_type": "code",
   "execution_count": 8,
   "metadata": {},
   "outputs": [
    {
     "name": "stdout",
     "output_type": "stream",
     "text": [
      "id            https://kg.ebrains.eu/api/instances/65b1b9a3-af50-4c9c-a4e6-7556bc700da0\n",
      "space         dataset\n",
      "type          https://openminds.ebrains.eu/core/Dataset\n",
      "authors       [KGProxy([<class 'fairgraph.openminds.core.actors.person.Person'>], 'https://kg.ebrains.eu/api/instances/5dff4ef9-bd56-4aee-979a-6ed15f65d235'), KGProxy([<class 'fairgraph.openminds.core.actors.person.Person'>], 'https://kg.ebrains.eu/api/instances/2843990a-69dd-468b-a1d3-ff9589b485ae')]\n",
      "custodians    KGProxy([<class 'fairgraph.openminds.core.actors.person.Person'>], 'https://kg.ebrains.eu/api/instances/2843990a-69dd-468b-a1d3-ff9589b485ae')\n",
      "description   In this study we analyzed the intrinsic electrophysiological properties of CA1 excitatory hippocampal neurons in a mouse model of Alzheimer’s Disease (AD) at two age points: a presymptomatic age (3-4 months) and a symptomatic age: (9-10 months). At this latter age, this APPPS1 model harbors amyloid plaques and hippocampus-dependent cognitive alterations. Little is known about the excitability alterations in the hippocampus that correlate to these cognitive deficits.  Using patch clamp electrophysiology we recorded CA1 pyramidal neurons from control littermates (Wild types) and APPPS1 slices of hippocampus at these two age points.\n",
      "full_name     Excitability profile of CA1 pyramidal neurons in APPPS1 Alzheimer disease mice and control littermates\n",
      "has_versions  KGProxy([<class 'fairgraph.openminds.core.products.dataset_version.DatasetVersion'>], 'https://kg.ebrains.eu/api/instances/bd5f91ff-e829-4b85-92eb-fc56991541f1')\n",
      "short_name    Excitability profile of CA1 pyramidal neurons in APPPS1 Alzheimer disease mice and control littermates\n"
     ]
    }
   ],
   "source": [
    "dataset = dataset_version.is_version_of.resolve(kg_client)\n",
    "dataset.show()"
   ]
  },
  {
   "cell_type": "markdown",
   "metadata": {},
   "source": [
    "### Following multiple links at once\n",
    "\n",
    "Following links one at a time can be rather slow, as it requires many network requests.\n",
    "\n",
    "If you know in advance the paths you wish to follow through the graph, you can specify them in the `follow_links` argument to the `resolve()` method.\n",
    "For example:"
   ]
  },
  {
   "cell_type": "code",
   "execution_count": 9,
   "metadata": {},
   "outputs": [
    {
     "name": "stdout",
     "output_type": "stream",
     "text": [
      "# Before\n",
      "Digital identifier: <class 'fairgraph.kgproxy.KGProxy'>\n",
      "Ethics assessment:  <class 'fairgraph.kgproxy.KGProxy'>\n",
      "Study targets:      <class 'fairgraph.kgproxy.KGProxy'>\n",
      "Is version of:      <class 'fairgraph.kgquery.KGQuery'>\n",
      "\n",
      "# After\n",
      "Digital identifier: <class 'fairgraph.openminds.core.digital_identifier.doi.DOI'>\n",
      "Ethics assessment:  <class 'fairgraph.openminds.controlled_terms.ethics_assessment.EthicsAssessment'>\n",
      "Study targets:      <class 'fairgraph.openminds.controlled_terms.disease.Disease'>\n",
      "Is version of:      <class 'list'>\n",
      "Authors:\n",
      "  Ana Rita Salgueiro-Pereira\n",
      "  Hélène Marie\n"
     ]
    }
   ],
   "source": [
    "print(\"# Before\")\n",
    "print(f\"Digital identifier: {type(dataset_version.digital_identifier)}\")\n",
    "print(f\"Ethics assessment:  {type(dataset_version.ethics_assessment)}\")\n",
    "print(f\"Study targets:      {type(dataset_version.study_targets)}\")\n",
    "print(f\"Is version of:      {type(dataset_version.is_version_of)}\")\n",
    "\n",
    "print(\"\\n# After\")\n",
    "dataset_version.resolve(\n",
    "    kg_client,\n",
    "    follow_links={\n",
    "        \"digital_identifier\": {},\n",
    "        \"ethics_assessment\": {},\n",
    "        \"study_targets\": {},\n",
    "        \"is_version_of\": {\n",
    "            \"authors\": {}\n",
    "        }\n",
    "    })\n",
    "print(f\"Digital identifier: {type(dataset_version.digital_identifier)}\")\n",
    "print(f\"Ethics assessment:  {type(dataset_version.ethics_assessment)}\")\n",
    "print(f\"Study targets:      {type(dataset_version.study_targets)}\")\n",
    "print(f\"Is version of:      {type(dataset_version.is_version_of)}\")\n",
    "\n",
    "print(\"Authors:\")\n",
    "for author in dataset_version.is_version_of[0].authors:\n",
    "    print(f\"  {author.given_name} {author.family_name}\")"
   ]
  },
  {
   "cell_type": "markdown",
   "metadata": {},
   "source": [
    "Note that this request includes following a \"reverse\" link (\"is_version_of\") followed by a \"forward\" link (\"authors\").\n",
    "Any combination of forward and reverse links can be followed.\n",
    "\n",
    "Following links can even be done at the same time as retrieving the base node, reducing the number of network requests to just one:"
   ]
  },
  {
   "cell_type": "code",
   "execution_count": 10,
   "metadata": {},
   "outputs": [
    {
     "name": "stdout",
     "output_type": "stream",
     "text": [
      "id                       https://kg.ebrains.eu/api/instances/bd5f91ff-e829-4b85-92eb-fc56991541f1\n",
      "space                    dataset\n",
      "type                     https://openminds.ebrains.eu/core/DatasetVersion\n",
      "accessibility            KGProxy([<class 'fairgraph.openminds.controlled_terms.product_accessibility.ProductAccessibility'>], 'https://kg.ebrains.eu/api/instances/b2ff7a47-b349-48d7-8ce4-cf51868675f1')\n",
      "data_types               KGProxy([<class 'fairgraph.openminds.controlled_terms.semantic_data_type.SemanticDataType'>], 'https://kg.ebrains.eu/api/instances/f468ee45-37a6-4e71-8b70-0cbe66d367db')\n",
      "description\n",
      "digital_identifier       DOI(identifier='https://doi.org/10.25493/YJFW-HPY', space=None, id=https://kg.ebrains.eu/api/instances/df93b012-3bb6-4565-bce0-3bd2d3aed63b)\n",
      "ethics_assessment        EthicsAssessment(definition=\"'EU compliant, non sensitive' data should be able to provide an ethics approval as part of the metadata. An EBRAINS ethics compliance check is not required.\", description=\"'EU compliant, non sensitive' data should be able to provide an ethics approval as part of the metadata. An EBRAINS ethics compliance check is not required. This is typically true for all non-primate vertebrate animals as well as cephalopods.\", name='EU compliant, non sensitive', space=None, id=https://kg.ebrains.eu/api/instances/a217a2f8-dcb8-4ca9-9923-517af2aebc5b)\n",
      "experimental_approaches  KGProxy([<class 'fairgraph.openminds.controlled_terms.experimental_approach.ExperimentalApproach'>], 'https://kg.ebrains.eu/api/instances/411b233f-a054-4719-bbd5-e86f1302bc46')\n",
      "full_documentation       KGProxy([<class 'fairgraph.openminds.core.miscellaneous.web_resource.WebResource'>], 'https://kg.ebrains.eu/api/instances/a245c132-30ae-4ba8-a1d1-3a0f44d056aa')\n",
      "full_name                Excitability profile of CA1 pyramidal neurons in APPPS1 Alzheimer disease mice and control littermates\n",
      "keywords                 KGProxy([<class 'fairgraph.openminds.controlled_terms.term_suggestion.TermSuggestion'>], 'https://kg.ebrains.eu/api/instances/62034f18-20fc-46d6-8f0a-277a60cb02e9')\n",
      "license                  KGProxy([<class 'fairgraph.openminds.core.data.license.License'>], 'https://kg.ebrains.eu/api/instances/64c1704b-db12-4b29-9541-b9143d081044')\n",
      "preparation_designs      KGProxy([<class 'fairgraph.openminds.controlled_terms.preparation_type.PreparationType'>], 'https://kg.ebrains.eu/api/instances/9f3abe1b-af7c-446d-b637-6a4f19ab7939')\n",
      "related_publications     KGProxy([<class 'fairgraph.openminds.core.digital_identifier.doi.DOI'>], 'https://kg.ebrains.eu/api/instances/5f477d01-82c1-4c6a-891c-e902a8c2241c')\n",
      "release_date             2020-04-21 00:00:00\n",
      "repository               KGProxy([<class 'fairgraph.openminds.core.data.file_repository.FileRepository'>], 'https://kg.ebrains.eu/api/instances/1a319b34-4903-4663-8882-b3fe5703cbcb')\n",
      "short_name               Excitability profile of CA1 pyramidal neurons in APPPS1 Alzheimer disease mice and control littermates\n",
      "studied_specimens        [KGProxy([<class 'fairgraph.openminds.core.research.subject.Subject'>], 'https://kg.ebrains.eu/api/instances/d04d00c7-b770-4744-a5f4-2ebba26ba1d1'), KGProxy([<class 'fairgraph.openminds.core.research.subject.Subject'>], 'https://kg.ebrains.eu/api/instances/31f9157a-616b-43b4-8a04-8fd8c15a7524'), KGProxy([<class 'fairgraph.openminds.core.research.subject.Subject'>], 'https://kg.ebrains.eu/api/instances/853682c7-c317-4091-b3eb-f94ce41a70a5'), KGProxy([<class 'fairgraph.openminds.core.research.tissue_sample_collection.TissueSampleCollection'>], 'https://kg.ebrains.eu/api/instances/8300e9c8-ddce-4b72-811a-96f1f7dc0d4b'), KGProxy([<class 'fairgraph.openminds.core.research.tissue_sample_collection.TissueSampleCollection'>], 'https://kg.ebrains.eu/api/instances/eca80107-1908-43cc-8897-5074f50dbe22'), KGProxy([<class 'fairgraph.openminds.core.research.tissue_sample_collection.TissueSampleCollection'>], 'https://kg.ebrains.eu/api/instances/d74401a9-24a0-4373-b2b7-60b084b66820'), KGProxy([<class 'fairgraph.openminds.core.research.tissue_sample_collection.TissueSampleCollection'>], 'https://kg.ebrains.eu/api/instances/ed399971-9797-4fc3-8796-094ebdf2432e'), KGProxy([<class 'fairgraph.openminds.core.research.subject.Subject'>], 'https://kg.ebrains.eu/api/instances/54e0bc42-9ddb-4503-98be-c1f3c03afea1'), KGProxy([<class 'fairgraph.openminds.core.research.subject.Subject'>], 'https://kg.ebrains.eu/api/instances/d5ea0238-23e7-463e-96f3-4da7c06832e4'), KGProxy([<class 'fairgraph.openminds.core.research.subject.Subject'>], 'https://kg.ebrains.eu/api/instances/6c00b1a4-d10f-408d-ac00-b07464a73321'), KGProxy([<class 'fairgraph.openminds.core.research.tissue_sample_collection.TissueSampleCollection'>], 'https://kg.ebrains.eu/api/instances/d352f598-0118-4908-ad01-a2c4b5e06028'), KGProxy([<class 'fairgraph.openminds.core.research.tissue_sample_collection.TissueSampleCollection'>], 'https://kg.ebrains.eu/api/instances/a9f319fb-9d41-4500-8eb4-08601053f850'), KGProxy([<class 'fairgraph.openminds.core.research.tissue_sample_collection.TissueSampleCollection'>], 'https://kg.ebrains.eu/api/instances/d2b62075-768e-48f4-ba00-4e8cbbb543e9'), KGProxy([<class 'fairgraph.openminds.core.research.subject.Subject'>], 'https://kg.ebrains.eu/api/instances/9a83c827-3638-4bc1-92c2-10749d30500b'), KGProxy([<class 'fairgraph.openminds.core.research.subject.Subject'>], 'https://kg.ebrains.eu/api/instances/dd214b93-8c20-4c70-ac90-584d7f66f344'), KGProxy([<class 'fairgraph.openminds.core.research.subject.Subject'>], 'https://kg.ebrains.eu/api/instances/d967e53d-277d-4a2f-9090-8c50aaf0a008'), KGProxy([<class 'fairgraph.openminds.core.research.tissue_sample_collection.TissueSampleCollection'>], 'https://kg.ebrains.eu/api/instances/0cad429a-f738-4d1d-9e56-c907b431a8c9'), KGProxy([<class 'fairgraph.openminds.core.research.tissue_sample_collection.TissueSampleCollection'>], 'https://kg.ebrains.eu/api/instances/5f40bc15-d813-4560-92a8-a533109777fb'), KGProxy([<class 'fairgraph.openminds.core.research.subject.Subject'>], 'https://kg.ebrains.eu/api/instances/0be6ad46-c50d-4a50-8e2b-0eeea708019e'), KGProxy([<class 'fairgraph.openminds.core.research.subject.Subject'>], 'https://kg.ebrains.eu/api/instances/a7197a22-0b1d-4069-89b2-17aa92910c00'), KGProxy([<class 'fairgraph.openminds.core.research.subject.Subject'>], 'https://kg.ebrains.eu/api/instances/524e0e51-6a9e-410b-8d23-79ce1b7d97b7'), KGProxy([<class 'fairgraph.openminds.core.research.subject.Subject'>], 'https://kg.ebrains.eu/api/instances/12f80b23-6bec-4b0a-90c7-b717310fb707'), KGProxy([<class 'fairgraph.openminds.core.research.tissue_sample_collection.TissueSampleCollection'>], 'https://kg.ebrains.eu/api/instances/ae759252-c8e4-4c60-aa4c-308922613371'), KGProxy([<class 'fairgraph.openminds.core.research.tissue_sample_collection.TissueSampleCollection'>], 'https://kg.ebrains.eu/api/instances/e168745f-d7cf-4977-87d0-4dbeba51a9f2'), KGProxy([<class 'fairgraph.openminds.core.research.tissue_sample_collection.TissueSampleCollection'>], 'https://kg.ebrains.eu/api/instances/d44005cd-7d11-471f-9e34-4400463449ee'), KGProxy([<class 'fairgraph.openminds.core.research.tissue_sample_collection.TissueSampleCollection'>], 'https://kg.ebrains.eu/api/instances/7831a6bc-d329-4ff1-a5cf-270c100f9f8a')]\n",
      "study_targets            KGProxy([<class 'fairgraph.openminds.controlled_terms.disease.Disease'>], 'https://kg.ebrains.eu/api/instances/161baa02-4e08-4cf2-a641-81cf323cc15d')\n",
      "techniques               [KGProxy([<class 'fairgraph.openminds.controlled_terms.technique.Technique'>], 'https://kg.ebrains.eu/api/instances/dc0bbc6c-99f5-4d3b-9c5e-e1bb7d59aa63'), KGProxy([<class 'fairgraph.openminds.controlled_terms.technique.Technique'>], 'https://kg.ebrains.eu/api/instances/ffc1c922-5ba9-4f03-b9be-05eb6fd0f294')]\n",
      "version_identifier       v1\n",
      "version_innovation       This is the first version of this research product.\n",
      "is_version_of            Dataset(authors=[Person(affiliations=Affiliation(member_of=KGProxy([<class 'fairgraph.openminds.core.actors.organization.Organization'>], 'https://kg.ebrains.eu/api/instances/266b8ab6-1233-46e6-9a00-868380779891')), family_name='Salgueiro-Pereira', given_name='Ana Rita', space=None, id=https://kg.ebrains.eu/api/instances/5dff4ef9-bd56-4aee-979a-6ed15f65d235), Person(affiliations=Affiliation(member_of=KGProxy([<class 'fairgraph.openminds.core.actors.organization.Organization'>], 'https://kg.ebrains.eu/api/instances/266b8ab6-1233-46e6-9a00-868380779891')), family_name='Marie', given_name='Hélène', developed=[KGProxy([<class 'fairgraph.openminds.core.products.model_version.ModelVersion'>], 'https://kg.ebrains.eu/api/instances/d703008d-c4f0-4b37-869f-4a2659e90d35'), KGProxy([<class 'fairgraph.openminds.core.products.model_version.ModelVersion'>], 'https://kg.ebrains.eu/api/instances/403d865e-417c-45fe-97cf-83a9613ae664'), KGProxy([<class 'fairgraph.openminds.core.products.model.Model'>], 'https://kg.ebrains.eu/api/instances/528ec0e6-2f21-413c-9abd-d131f7150882')], is_custodian_of=KGProxy([<class 'fairgraph.openminds.core.products.dataset.Dataset'>], 'https://kg.ebrains.eu/api/instances/65b1b9a3-af50-4c9c-a4e6-7556bc700da0'), space=None, id=https://kg.ebrains.eu/api/instances/2843990a-69dd-468b-a1d3-ff9589b485ae)], custodians=KGProxy([<class 'fairgraph.openminds.core.actors.person.Person'>], 'https://kg.ebrains.eu/api/instances/2843990a-69dd-468b-a1d3-ff9589b485ae'), description='In this study we analyzed the intrinsic electrophysiological properties of CA1 excitatory hippocampal neurons in a mouse model of Alzheimer’s Disease (AD) at two age points: a presymptomatic age (3-4 months) and a symptomatic age: (9-10 months). At this latter age, this APPPS1 model harbors amyloid plaques and hippocampus-dependent cognitive alterations. Little is known about the excitability alterations in the hippocampus that correlate to these cognitive deficits.  Using patch clamp electrophysiology we recorded CA1 pyramidal neurons from control littermates (Wild types) and APPPS1 slices of hippocampus at these two age points.', full_name='Excitability profile of CA1 pyramidal neurons in APPPS1 Alzheimer disease mice and control littermates', has_versions=KGProxy([<class 'fairgraph.openminds.core.products.dataset_version.DatasetVersion'>], 'https://kg.ebrains.eu/api/instances/bd5f91ff-e829-4b85-92eb-fc56991541f1'), short_name='Excitability profile of CA1 pyramidal neurons in APPPS1 Alzheimer disease mice and control littermates', space=None, id=https://kg.ebrains.eu/api/instances/65b1b9a3-af50-4c9c-a4e6-7556bc700da0)\n",
      "learning_resources       KGProxy([<class 'fairgraph.openminds.publications.learning_resource.LearningResource'>], 'https://kg.ebrains.eu/api/instances/5f4a2cfb-3f94-430d-a44e-00ed5924c1ce')\n"
     ]
    }
   ],
   "source": [
    "dataset_version = omcore.DatasetVersion.from_id(\n",
    "    dataset_id,\n",
    "    kg_client,\n",
    "    follow_links={\n",
    "        \"digital_identifier\": {},\n",
    "        \"ethics_assessment\": {},\n",
    "        \"is_version_of\": {\n",
    "            \"authors\": {}\n",
    "        }\n",
    "    }\n",
    ")\n",
    "dataset_version.show()"
   ]
  },
  {
   "cell_type": "markdown",
   "metadata": {},
   "source": [
    "Note: due to underlying restrictions on the length of queries to the KG, trying to follow too many links at once can fail with a 500 error. This is being worked on."
   ]
  },
  {
   "cell_type": "markdown",
   "metadata": {},
   "source": [
    "## 5. Searching the Knowledge Graph\n",
    "\n",
    "So far in this tutorial, all the metadata we've retrieved has been based on knowing the hexadecimal identifier of the node.\n",
    "Very often, however, we don't know the identifier.\n",
    "We may know the title of the dataset, its DOI, or we may wish to retrieve a group of nodes that share some property.\n",
    "\n",
    "For all such queries, we use the `list()` method:\n",
    "\n",
    "### Retrieving a dataset based on its name"
   ]
  },
  {
   "cell_type": "code",
   "execution_count": 11,
   "metadata": {},
   "outputs": [
    {
     "name": "stdout",
     "output_type": "stream",
     "text": [
      "Found 1 dataset(s)\n"
     ]
    }
   ],
   "source": [
    "dataset_versions = omcore.DatasetVersion.list(kg_client, full_name=\"Excitability profile of CA1 pyramidal neurons in APPPS1 Alzheimer disease mice and control littermates\")\n",
    "print(f\"Found {len(dataset_versions)} dataset(s)\")"
   ]
  },
  {
   "cell_type": "markdown",
   "metadata": {},
   "source": [
    "Note that you don't need the complete name, fairgraph will also search for fragments of the name, e.g.:"
   ]
  },
  {
   "cell_type": "code",
   "execution_count": 12,
   "metadata": {},
   "outputs": [
    {
     "name": "stdout",
     "output_type": "stream",
     "text": [
      "Found 1 dataset(s)\n"
     ]
    },
    {
     "data": {
      "text/plain": [
       "'Excitability profile of CA1 pyramidal neurons in APPPS1 Alzheimer disease mice and control littermates'"
      ]
     },
     "execution_count": 12,
     "metadata": {},
     "output_type": "execute_result"
    }
   ],
   "source": [
    "dataset_versions = omcore.DatasetVersion.list(kg_client, full_name=\"APPPS1 Alzheimer\")\n",
    "print(f\"Found {len(dataset_versions)} dataset(s)\")\n",
    "dataset_versions[0].full_name\n"
   ]
  },
  {
   "cell_type": "markdown",
   "metadata": {},
   "source": [
    "### Retrieving a dataset based on its DOI\n",
    "\n",
    "Since the \"digital_identifier\" property links to a node of type `DOI`, we need to search on the \"identifier\" property of the `DOI` node, which contains the actual text string.\n",
    "\n",
    "To do this, we join the terms with a double underscore, i.e. \"digital_identifier__identifier\"."
   ]
  },
  {
   "cell_type": "code",
   "execution_count": 13,
   "metadata": {},
   "outputs": [
    {
     "name": "stdout",
     "output_type": "stream",
     "text": [
      "Found 1 dataset(s)\n"
     ]
    },
    {
     "data": {
      "text/plain": [
       "'Excitability profile of CA1 pyramidal neurons in APPPS1 Alzheimer disease mice and control littermates'"
      ]
     },
     "execution_count": 13,
     "metadata": {},
     "output_type": "execute_result"
    }
   ],
   "source": [
    "dataset_version = omcore.DatasetVersion.list(\n",
    "    kg_client,\n",
    "    digital_identifier__identifier=\"10.25493/YJFW-HPY\",\n",
    "    follow_links={\"digital_identifier\": {}}  # this argument is optional\n",
    ")\n",
    "print(f\"Found {len(dataset_versions)} dataset(s)\")\n",
    "dataset_versions[0].full_name\n",
    "#dataset_versions[0].digital_identifier.identifier\n"
   ]
  },
  {
   "cell_type": "markdown",
   "metadata": {},
   "source": [
    "\n",
    "\n",
    "### Finding all datasets with \"Alzheimer\" in their name\n"
   ]
  },
  {
   "cell_type": "code",
   "execution_count": 14,
   "metadata": {},
   "outputs": [
    {
     "name": "stdout",
     "output_type": "stream",
     "text": [
      "Found 1 dataset(s)\n"
     ]
    }
   ],
   "source": [
    "alzheimers_datasets = omcore.DatasetVersion.list(kg_client, full_name=\"Alzheimer\")\n",
    "print(f\"Found {len(alzheimers_datasets)} dataset(s)\")"
   ]
  },
  {
   "cell_type": "markdown",
   "metadata": {},
   "source": [
    "It may surprise you that we get only a single result for \"Alzheimer\" with this query,\n",
    "but [multiple responses in the KG Search UI](https://search.kg.ebrains.eu/?category=Dataset&q=Alzheimer).\n",
    "\n",
    "One reason for this is that the Search UI searches both the \"full_name\" and \"description\" properties.\n",
    "Another is that sometimes the full_name property comes from the parent dataset record, and is not set on an individual dataset version.\n",
    "\n",
    "openMINDS distinguishes between a `Dataset` and a `DatasetVersion`.\n",
    "Each dataset can have multiple versions.\n",
    "Both `Dataset` and `DatasetVersion` have \"name\" and \"description\" properties.\n",
    "The convention in the EBRAINS Knowledge Graph [Search UI](https://search.kg.ebrains.eu/) is that if the \"name\" property of a `DatasetVersion` is empty, it should inherit it from the parent `DataSet`.\n",
    "\n",
    "Fortunately, we can do the same thing in our query:"
   ]
  },
  {
   "cell_type": "code",
   "execution_count": 15,
   "metadata": {},
   "outputs": [
    {
     "name": "stdout",
     "output_type": "stream",
     "text": [
      "Found 5 dataset(s)\n"
     ]
    }
   ],
   "source": [
    "alzheimers_datasets = omcore.DatasetVersion.list(kg_client, is_version_of__full_name=\"Alzheimer\")\n",
    "print(f\"Found {len(alzheimers_datasets)} dataset(s)\")"
   ]
  },
  {
   "cell_type": "markdown",
   "metadata": {},
   "source": [
    "Now we find 5 datasets. If we also search in the description of the parent dataset, we find even more:"
   ]
  },
  {
   "cell_type": "code",
   "execution_count": 16,
   "metadata": {},
   "outputs": [
    {
     "name": "stdout",
     "output_type": "stream",
     "text": [
      "Found 11 dataset(s)\n"
     ]
    }
   ],
   "source": [
    "alzheimers_datasets = omcore.DatasetVersion.list(\n",
    "    kg_client,\n",
    "    is_version_of__full_name=\"Alzheimer\",\n",
    "    is_version_of__description=\"Alzheimer\"\n",
    ")\n",
    "print(f\"Found {len(alzheimers_datasets)} dataset(s)\")"
   ]
  },
  {
   "cell_type": "markdown",
   "metadata": {},
   "source": [
    "### Finding all datasets with \"Alzheimers' Disease\" as a study target\n",
    "\n",
    "Many properties in openMINDS, like \"study_targets\", use controlled vocabularies, which means that the property is a link to a node, which in turn contains both the term itself and other information about the term, such as a definition.\n",
    "\n",
    "To help us build our query, we can look at the possible node types that can be linked from the property \"study_targets\":"
   ]
  },
  {
   "cell_type": "code",
   "execution_count": 17,
   "metadata": {},
   "outputs": [
    {
     "data": {
      "text/plain": [
       "(fairgraph.openminds.controlled_terms.auditory_stimulus_type.AuditoryStimulusType,\n",
       " fairgraph.openminds.controlled_terms.biological_order.BiologicalOrder,\n",
       " fairgraph.openminds.controlled_terms.biological_sex.BiologicalSex,\n",
       " fairgraph.openminds.controlled_terms.breeding_type.BreedingType,\n",
       " fairgraph.openminds.controlled_terms.cell_culture_type.CellCultureType,\n",
       " fairgraph.openminds.controlled_terms.cell_type.CellType,\n",
       " fairgraph.openminds.controlled_terms.disease.Disease,\n",
       " fairgraph.openminds.controlled_terms.disease_model.DiseaseModel,\n",
       " fairgraph.openminds.controlled_terms.electrical_stimulus_type.ElectricalStimulusType,\n",
       " fairgraph.openminds.controlled_terms.genetic_strain_type.GeneticStrainType,\n",
       " fairgraph.openminds.controlled_terms.gustatory_stimulus_type.GustatoryStimulusType,\n",
       " fairgraph.openminds.controlled_terms.handedness.Handedness,\n",
       " fairgraph.openminds.controlled_terms.molecular_entity.MolecularEntity,\n",
       " fairgraph.openminds.controlled_terms.olfactory_stimulus_type.OlfactoryStimulusType,\n",
       " fairgraph.openminds.controlled_terms.optical_stimulus_type.OpticalStimulusType,\n",
       " fairgraph.openminds.controlled_terms.organ.Organ,\n",
       " fairgraph.openminds.controlled_terms.organism_substance.OrganismSubstance,\n",
       " fairgraph.openminds.controlled_terms.organism_system.OrganismSystem,\n",
       " fairgraph.openminds.controlled_terms.species.Species,\n",
       " fairgraph.openminds.controlled_terms.subcellular_entity.SubcellularEntity,\n",
       " fairgraph.openminds.controlled_terms.tactile_stimulus_type.TactileStimulusType,\n",
       " fairgraph.openminds.controlled_terms.term_suggestion.TermSuggestion,\n",
       " fairgraph.openminds.controlled_terms.tissue_sample_type.TissueSampleType,\n",
       " fairgraph.openminds.controlled_terms.uberon_parcellation.UBERONParcellation,\n",
       " fairgraph.openminds.controlled_terms.visual_stimulus_type.VisualStimulusType,\n",
       " fairgraph.openminds.sands.non_atlas.custom_anatomical_entity.CustomAnatomicalEntity,\n",
       " fairgraph.openminds.sands.atlas.parcellation_entity.ParcellationEntity,\n",
       " fairgraph.openminds.sands.atlas.parcellation_entity_version.ParcellationEntityVersion)"
      ]
     },
     "execution_count": 17,
     "metadata": {},
     "output_type": "execute_result"
    }
   ],
   "source": [
    "omcore.DatasetVersion._property_lookup[\"study_targets\"].types"
   ]
  },
  {
   "cell_type": "markdown",
   "metadata": {},
   "source": [
    "\"Alzheimer's disease\" is probably a controlled term of type \"Disease\", so let's look at the properties of the `Disease` class:"
   ]
  },
  {
   "cell_type": "code",
   "execution_count": 18,
   "metadata": {},
   "outputs": [
    {
     "data": {
      "text/plain": [
       "['definition',\n",
       " 'description',\n",
       " 'interlex_identifier',\n",
       " 'knowledge_space_link',\n",
       " 'name',\n",
       " 'preferred_ontology_identifier',\n",
       " 'synonyms',\n",
       " 'describes',\n",
       " 'is_modeled_by',\n",
       " 'is_used_to_group',\n",
       " 'specimen_state',\n",
       " 'studied_in']"
      ]
     },
     "execution_count": 18,
     "metadata": {},
     "output_type": "execute_result"
    }
   ],
   "source": [
    "import fairgraph.openminds.controlled_terms as terms\n",
    "\n",
    "terms.Disease.property_names"
   ]
  },
  {
   "cell_type": "markdown",
   "metadata": {},
   "source": [
    "Let's first see if we can find a term with that name:"
   ]
  },
  {
   "cell_type": "code",
   "execution_count": 19,
   "metadata": {},
   "outputs": [
    {
     "name": "stdout",
     "output_type": "stream",
     "text": [
      "Found 1 term(s)\n",
      "id                             https://kg.ebrains.eu/api/instances/161baa02-4e08-4cf2-a641-81cf323cc15d\n",
      "space                          controlled\n",
      "type                           https://openminds.ebrains.eu/controlledTerms/Disease\n",
      "name                           Alzheimer's disease\n",
      "preferred_ontology_identifier  http://purl.obolibrary.org/obo/DOID_10652\n",
      "specimen_state                 [KGProxy([<class 'fairgraph.openminds.core.research.subject_state.SubjectState'>], 'https://kg.ebrains.eu/api/instances/6f0d62b4-7ed0-4580-9db8-c2302b87a0af'), KGProxy([<class 'fairgraph.openminds.core.research.subject_state.SubjectState'>], 'https://kg.ebrains.eu/api/instances/9d3ed4e7-1c12-44ca-a053-3483e33607a3'), KGProxy([<class 'fairgraph.openminds.core.research.subject_state.SubjectState'>], 'https://kg.ebrains.eu/api/instances/948981a3-ab75-4420-87e5-5a6f5c05cfd9'), KGProxy([<class 'fairgraph.openminds.core.research.subject_state.SubjectState'>], 'https://kg.ebrains.eu/api/instances/ec57f83a-b597-44b5-8d32-45f77313db74'), KGProxy([<class 'fairgraph.openminds.core.research.subject_state.SubjectState'>], 'https://kg.ebrains.eu/api/instances/a7f7ffe3-79e1-4e9f-bf35-1d4b9e91e2d3'), KGProxy([<class 'fairgraph.openminds.core.research.subject_state.SubjectState'>], 'https://kg.ebrains.eu/api/instances/8e23df4a-a8b2-4c09-8bae-70abfae78955'), KGProxy([<class 'fairgraph.openminds.core.research.subject_state.SubjectState'>], 'https://kg.ebrains.eu/api/instances/3d93bb5a-bb13-421b-855a-2adb49d04a95'), KGProxy([<class 'fairgraph.openminds.core.research.subject_state.SubjectState'>], 'https://kg.ebrains.eu/api/instances/641c9c1d-49ac-45fb-bd02-59210870e5c6'), KGProxy([<class 'fairgraph.openminds.core.research.subject_state.SubjectState'>], 'https://kg.ebrains.eu/api/instances/13cc7154-7640-421a-8a14-83f17606d6ff'), KGProxy([<class 'fairgraph.openminds.core.research.subject_state.SubjectState'>], 'https://kg.ebrains.eu/api/instances/241553d5-d61f-4fcb-8670-f56600c841ee'), KGProxy([<class 'fairgraph.openminds.core.research.subject_state.SubjectState'>], 'https://kg.ebrains.eu/api/instances/077f741d-3cbf-4c1c-b803-9b5fa60b323e'), KGProxy([<class 'fairgraph.openminds.core.research.subject_state.SubjectState'>], 'https://kg.ebrains.eu/api/instances/8c6c6e02-097f-4ee4-a9a2-8c4edb3a8765'), KGProxy([<class 'fairgraph.openminds.core.research.subject_state.SubjectState'>], 'https://kg.ebrains.eu/api/instances/0f65056f-12c5-4d34-b765-f2e158488666'), KGProxy([<class 'fairgraph.openminds.core.research.subject_state.SubjectState'>], 'https://kg.ebrains.eu/api/instances/0f401f83-e210-45d3-8d27-4a241cca5e55'), KGProxy([<class 'fairgraph.openminds.core.research.subject_state.SubjectState'>], 'https://kg.ebrains.eu/api/instances/75250b12-18df-48ed-9824-5079e1066c4d'), KGProxy([<class 'fairgraph.openminds.core.research.subject_state.SubjectState'>], 'https://kg.ebrains.eu/api/instances/cae25860-78fe-49ed-adb4-809a400ad961'), KGProxy([<class 'fairgraph.openminds.core.research.subject_state.SubjectState'>], 'https://kg.ebrains.eu/api/instances/407f72f7-84f4-4f49-a598-4eed2018965e'), KGProxy([<class 'fairgraph.openminds.core.research.subject_state.SubjectState'>], 'https://kg.ebrains.eu/api/instances/1cb93569-f47d-4d88-8819-da21024a3c90'), KGProxy([<class 'fairgraph.openminds.core.research.subject_state.SubjectState'>], 'https://kg.ebrains.eu/api/instances/76ed8c4b-692b-4594-8637-b4a449261c7e'), KGProxy([<class 'fairgraph.openminds.core.research.subject_state.SubjectState'>], 'https://kg.ebrains.eu/api/instances/ea75d572-b9df-4cc1-adf4-246a93183bbe'), KGProxy([<class 'fairgraph.openminds.core.research.subject_group_state.SubjectGroupState'>], 'https://kg.ebrains.eu/api/instances/f2d2004f-fd9a-47d0-9216-690c8c9b164d'), KGProxy([<class 'fairgraph.openminds.core.research.subject_state.SubjectState'>], 'https://kg.ebrains.eu/api/instances/68f3ab73-fe7c-49c4-ba9f-b146f4c9ad11'), KGProxy([<class 'fairgraph.openminds.core.research.subject_state.SubjectState'>], 'https://kg.ebrains.eu/api/instances/023c4698-ec40-4547-b087-ea9cc75178b5'), KGProxy([<class 'fairgraph.openminds.core.research.subject_state.SubjectState'>], 'https://kg.ebrains.eu/api/instances/29889c0a-4723-445b-9326-c4b38c34b810'), KGProxy([<class 'fairgraph.openminds.core.research.subject_state.SubjectState'>], 'https://kg.ebrains.eu/api/instances/d6b9019e-87ec-4f58-899a-700f6b97f660'), KGProxy([<class 'fairgraph.openminds.core.research.subject_state.SubjectState'>], 'https://kg.ebrains.eu/api/instances/728451a2-2de8-4dfd-a0b0-3b0572914792'), KGProxy([<class 'fairgraph.openminds.core.research.subject_state.SubjectState'>], 'https://kg.ebrains.eu/api/instances/c891e596-81e2-4a84-a58e-436f4adb22d6'), KGProxy([<class 'fairgraph.openminds.core.research.subject_state.SubjectState'>], 'https://kg.ebrains.eu/api/instances/77eac412-7b03-46e5-81f0-77c005b80b9e'), KGProxy([<class 'fairgraph.openminds.core.research.subject_state.SubjectState'>], 'https://kg.ebrains.eu/api/instances/c5f648ac-f7ee-41d3-a526-6c33016fa7c0'), KGProxy([<class 'fairgraph.openminds.core.research.subject_state.SubjectState'>], 'https://kg.ebrains.eu/api/instances/815bcb03-b2b7-4179-a302-c58339bd890d'), KGProxy([<class 'fairgraph.openminds.core.research.tissue_sample_collection_state.TissueSampleCollectionState'>], 'https://kg.ebrains.eu/api/instances/2c0e6550-1a95-4889-9f3e-ce47c74cfe09'), KGProxy([<class 'fairgraph.openminds.core.research.subject_state.SubjectState'>], 'https://kg.ebrains.eu/api/instances/b139ba65-dcb6-40b6-9d26-beedccc900ec'), KGProxy([<class 'fairgraph.openminds.core.research.subject_state.SubjectState'>], 'https://kg.ebrains.eu/api/instances/8276d643-fb5b-417c-a9ba-f9bcee2d3d03'), KGProxy([<class 'fairgraph.openminds.core.research.subject_state.SubjectState'>], 'https://kg.ebrains.eu/api/instances/fb26e428-7d11-4204-b86b-bee9666510bd'), KGProxy([<class 'fairgraph.openminds.core.research.subject_state.SubjectState'>], 'https://kg.ebrains.eu/api/instances/c5333c66-1536-42e1-b289-0d47a5b15ee9'), KGProxy([<class 'fairgraph.openminds.core.research.subject_state.SubjectState'>], 'https://kg.ebrains.eu/api/instances/5acb7d0c-9d2a-4cfe-a81a-830ea586b0bc'), KGProxy([<class 'fairgraph.openminds.core.research.subject_state.SubjectState'>], 'https://kg.ebrains.eu/api/instances/baf2f411-8fa7-44db-8ffd-7510483a7fcb'), KGProxy([<class 'fairgraph.openminds.core.research.subject_state.SubjectState'>], 'https://kg.ebrains.eu/api/instances/8c765e58-8e76-4d3f-838e-3961cd543d06'), KGProxy([<class 'fairgraph.openminds.core.research.subject_state.SubjectState'>], 'https://kg.ebrains.eu/api/instances/9906a367-735e-4f3c-a8eb-085131629ade'), KGProxy([<class 'fairgraph.openminds.core.research.subject_state.SubjectState'>], 'https://kg.ebrains.eu/api/instances/23f49507-c2bc-4e8f-9c04-193a8c3fc2a5'), KGProxy([<class 'fairgraph.openminds.core.research.subject_state.SubjectState'>], 'https://kg.ebrains.eu/api/instances/359cf2cc-ee56-4a59-8527-58f96ebd90de'), KGProxy([<class 'fairgraph.openminds.core.research.subject_state.SubjectState'>], 'https://kg.ebrains.eu/api/instances/ce895d7a-4487-4424-909f-fe471c11b343'), KGProxy([<class 'fairgraph.openminds.core.research.subject_state.SubjectState'>], 'https://kg.ebrains.eu/api/instances/38e8e02f-fc28-4b2b-86c8-7d95346b45c0'), KGProxy([<class 'fairgraph.openminds.core.research.subject_state.SubjectState'>], 'https://kg.ebrains.eu/api/instances/4999a5b1-ac80-49dd-960e-a5d683d4f281'), KGProxy([<class 'fairgraph.openminds.core.research.subject_state.SubjectState'>], 'https://kg.ebrains.eu/api/instances/c0b43b67-562c-426e-bbdb-fb8107e19e39'), KGProxy([<class 'fairgraph.openminds.core.research.subject_state.SubjectState'>], 'https://kg.ebrains.eu/api/instances/eabaa009-93a6-4452-9bd0-3c5a4a7cd99f'), KGProxy([<class 'fairgraph.openminds.core.research.subject_state.SubjectState'>], 'https://kg.ebrains.eu/api/instances/a23704c9-8e9b-46e1-b4b3-7e74db3937ee'), KGProxy([<class 'fairgraph.openminds.core.research.subject_state.SubjectState'>], 'https://kg.ebrains.eu/api/instances/10786a2d-01f1-415b-9e51-92fb5606bb7c'), KGProxy([<class 'fairgraph.openminds.core.research.subject_state.SubjectState'>], 'https://kg.ebrains.eu/api/instances/847022e6-894b-4daf-8ecd-e4dcf7d89f83'), KGProxy([<class 'fairgraph.openminds.core.research.subject_state.SubjectState'>], 'https://kg.ebrains.eu/api/instances/18d3eb3e-9a43-4c5d-bbea-1671f0e74498'), KGProxy([<class 'fairgraph.openminds.core.research.subject_state.SubjectState'>], 'https://kg.ebrains.eu/api/instances/84ff2a0e-4a0f-442b-9ecd-ede34402ce07'), KGProxy([<class 'fairgraph.openminds.core.research.subject_state.SubjectState'>], 'https://kg.ebrains.eu/api/instances/6daa2eb7-5a33-48ef-a4cc-5ceafa8d46eb'), KGProxy([<class 'fairgraph.openminds.core.research.subject_state.SubjectState'>], 'https://kg.ebrains.eu/api/instances/1f0d44f2-63ce-4c8e-809a-3b71a5c3b90f'), KGProxy([<class 'fairgraph.openminds.core.research.subject_state.SubjectState'>], 'https://kg.ebrains.eu/api/instances/dbe041e9-419e-45e9-a111-7d7281331621'), KGProxy([<class 'fairgraph.openminds.core.research.subject_state.SubjectState'>], 'https://kg.ebrains.eu/api/instances/eadfe0a3-9360-4b96-aca1-72644f4c7045'), KGProxy([<class 'fairgraph.openminds.core.research.subject_state.SubjectState'>], 'https://kg.ebrains.eu/api/instances/41706256-3206-4fd9-b3ee-c24c5de61570'), KGProxy([<class 'fairgraph.openminds.core.research.subject_state.SubjectState'>], 'https://kg.ebrains.eu/api/instances/4f81c8d5-b029-4cd7-aa3d-3cb8afb70d5c'), KGProxy([<class 'fairgraph.openminds.core.research.subject_state.SubjectState'>], 'https://kg.ebrains.eu/api/instances/32eb8af8-f104-41aa-8bdd-10efe7d8e1d7'), KGProxy([<class 'fairgraph.openminds.core.research.subject_state.SubjectState'>], 'https://kg.ebrains.eu/api/instances/56f602f8-7868-4dc2-ab3f-86c668100217'), KGProxy([<class 'fairgraph.openminds.core.research.subject_state.SubjectState'>], 'https://kg.ebrains.eu/api/instances/9f419b04-db56-4b60-92b9-36cf2cba2c3c'), KGProxy([<class 'fairgraph.openminds.core.research.subject_state.SubjectState'>], 'https://kg.ebrains.eu/api/instances/6e3f267a-859a-4fe0-937f-460cab4f62ae'), KGProxy([<class 'fairgraph.openminds.core.research.subject_group_state.SubjectGroupState'>], 'https://kg.ebrains.eu/api/instances/2934334c-154c-40ce-951b-7c4235c7f92f'), KGProxy([<class 'fairgraph.openminds.core.research.subject_state.SubjectState'>], 'https://kg.ebrains.eu/api/instances/db3b26ce-23bb-429e-9fee-dbe4c4f37821'), KGProxy([<class 'fairgraph.openminds.core.research.subject_state.SubjectState'>], 'https://kg.ebrains.eu/api/instances/c43d881c-7700-42a0-8796-a33602b49cf9'), KGProxy([<class 'fairgraph.openminds.core.research.subject_state.SubjectState'>], 'https://kg.ebrains.eu/api/instances/c7e9f68c-0d60-40d7-aa11-35a3fa09252a'), KGProxy([<class 'fairgraph.openminds.core.research.subject_state.SubjectState'>], 'https://kg.ebrains.eu/api/instances/ad51c99c-2e31-426b-ad06-cbc27dd76ffe'), KGProxy([<class 'fairgraph.openminds.core.research.subject_state.SubjectState'>], 'https://kg.ebrains.eu/api/instances/db23405f-5521-491c-aab0-50cb4c282eda'), KGProxy([<class 'fairgraph.openminds.core.research.subject_state.SubjectState'>], 'https://kg.ebrains.eu/api/instances/80cd4922-3d0a-42ea-9735-d838b2c3265a'), KGProxy([<class 'fairgraph.openminds.core.research.subject_state.SubjectState'>], 'https://kg.ebrains.eu/api/instances/2c3ce393-d3b4-4101-b6ce-48accc53a2f4'), KGProxy([<class 'fairgraph.openminds.core.research.subject_state.SubjectState'>], 'https://kg.ebrains.eu/api/instances/d7353778-4e91-4363-9e70-62093aa0b418'), KGProxy([<class 'fairgraph.openminds.core.research.subject_state.SubjectState'>], 'https://kg.ebrains.eu/api/instances/8e12ad4c-94a5-4b1d-821f-0679c5f427ae'), KGProxy([<class 'fairgraph.openminds.core.research.subject_state.SubjectState'>], 'https://kg.ebrains.eu/api/instances/6018bcea-0ded-40a3-a926-4dfce2f2ac55'), KGProxy([<class 'fairgraph.openminds.core.research.subject_state.SubjectState'>], 'https://kg.ebrains.eu/api/instances/8a12b1af-e431-4ede-84d4-d5c7cba769a4'), KGProxy([<class 'fairgraph.openminds.core.research.subject_state.SubjectState'>], 'https://kg.ebrains.eu/api/instances/101b3988-7b65-4f28-be60-0c5529da60bb'), KGProxy([<class 'fairgraph.openminds.core.research.subject_state.SubjectState'>], 'https://kg.ebrains.eu/api/instances/284afb08-ecf0-416e-8d94-dd446344dead'), KGProxy([<class 'fairgraph.openminds.core.research.subject_state.SubjectState'>], 'https://kg.ebrains.eu/api/instances/fcbebe74-e3ca-4aa6-884d-889d020563ab'), KGProxy([<class 'fairgraph.openminds.core.research.subject_state.SubjectState'>], 'https://kg.ebrains.eu/api/instances/64578374-1fa1-4067-8a9b-eec9f26b4e1d'), KGProxy([<class 'fairgraph.openminds.core.research.subject_state.SubjectState'>], 'https://kg.ebrains.eu/api/instances/f01e6044-e386-422b-acff-8784995bb1b1'), KGProxy([<class 'fairgraph.openminds.core.research.subject_state.SubjectState'>], 'https://kg.ebrains.eu/api/instances/f4cb5fb0-2eac-4f00-9876-bfd85822e6de'), KGProxy([<class 'fairgraph.openminds.core.research.subject_state.SubjectState'>], 'https://kg.ebrains.eu/api/instances/314ec38a-35b4-4e62-9953-503447e19611'), KGProxy([<class 'fairgraph.openminds.core.research.subject_group_state.SubjectGroupState'>], 'https://kg.ebrains.eu/api/instances/3931824a-a2b5-4d1e-85ca-5f49044735f2'), KGProxy([<class 'fairgraph.openminds.core.research.subject_state.SubjectState'>], 'https://kg.ebrains.eu/api/instances/9b4ea705-22b0-4311-964f-a24e244297f3'), KGProxy([<class 'fairgraph.openminds.core.research.subject_state.SubjectState'>], 'https://kg.ebrains.eu/api/instances/87ccd7a9-794a-4f3c-8598-64f29f78e1c1'), KGProxy([<class 'fairgraph.openminds.core.research.subject_state.SubjectState'>], 'https://kg.ebrains.eu/api/instances/f4513dd8-5e0b-457e-a3a2-9b7dd6250bbf'), KGProxy([<class 'fairgraph.openminds.core.research.subject_state.SubjectState'>], 'https://kg.ebrains.eu/api/instances/cbe48d77-46aa-4391-9159-3ed2abb5cb71'), KGProxy([<class 'fairgraph.openminds.core.research.subject_state.SubjectState'>], 'https://kg.ebrains.eu/api/instances/d8b615e2-a042-4091-8d2a-b00195bbbf0c'), KGProxy([<class 'fairgraph.openminds.core.research.subject_state.SubjectState'>], 'https://kg.ebrains.eu/api/instances/2ec008e2-549c-4c52-aea7-f1e4e74d135b'), KGProxy([<class 'fairgraph.openminds.core.research.subject_state.SubjectState'>], 'https://kg.ebrains.eu/api/instances/7e803a48-a6bb-4f8e-b39b-396806afa345'), KGProxy([<class 'fairgraph.openminds.core.research.subject_state.SubjectState'>], 'https://kg.ebrains.eu/api/instances/385580b4-92be-40c6-aab8-0c0335b9bdfc'), KGProxy([<class 'fairgraph.openminds.core.research.subject_group_state.SubjectGroupState'>], 'https://kg.ebrains.eu/api/instances/ca58bbae-dff0-423c-8f70-d872f7e1ec9b'), KGProxy([<class 'fairgraph.openminds.core.research.subject_group_state.SubjectGroupState'>], 'https://kg.ebrains.eu/api/instances/59ae29d2-1815-4af3-897b-4f1eb3c7784a')]\n",
      "studied_in                     [KGProxy([<class 'fairgraph.openminds.core.products.dataset_version.DatasetVersion'>], 'https://kg.ebrains.eu/api/instances/f885f773-ffeb-4244-a96b-2a9bc797a307'), KGProxy([<class 'fairgraph.openminds.core.products.dataset_version.DatasetVersion'>], 'https://kg.ebrains.eu/api/instances/4df8c324-af31-4cfc-a8af-a7ebf1d59fa1'), KGProxy([<class 'fairgraph.openminds.core.products.dataset_version.DatasetVersion'>], 'https://kg.ebrains.eu/api/instances/9df1a57c-3d54-4b9d-beff-88c24902a00d'), KGProxy([<class 'fairgraph.openminds.core.products.dataset_version.DatasetVersion'>], 'https://kg.ebrains.eu/api/instances/685b5844-7627-459c-a184-be1bab132c9d'), KGProxy([<class 'fairgraph.openminds.core.products.dataset_version.DatasetVersion'>], 'https://kg.ebrains.eu/api/instances/e3bcc696-9f24-46a9-ae21-4761caafb068'), KGProxy([<class 'fairgraph.openminds.core.products.dataset_version.DatasetVersion'>], 'https://kg.ebrains.eu/api/instances/54719155-54c7-4456-8987-36b7d5dce071'), KGProxy([<class 'fairgraph.openminds.core.products.model.Model'>], 'https://kg.ebrains.eu/api/instances/2b600072-be7f-423f-a979-1e35283acaca'), KGProxy([<class 'fairgraph.openminds.core.products.dataset_version.DatasetVersion'>], 'https://kg.ebrains.eu/api/instances/e5f79837-c907-4439-8f31-dc4c601990fa'), KGProxy([<class 'fairgraph.openminds.core.products.dataset_version.DatasetVersion'>], 'https://kg.ebrains.eu/api/instances/ffa2faab-b7ed-4c61-83ec-800689d024d1'), KGProxy([<class 'fairgraph.openminds.core.products.dataset_version.DatasetVersion'>], 'https://kg.ebrains.eu/api/instances/c404e7f6-9a18-4a5c-ae3c-27f159f4f96a'), KGProxy([<class 'fairgraph.openminds.core.products.dataset_version.DatasetVersion'>], 'https://kg.ebrains.eu/api/instances/bd5f91ff-e829-4b85-92eb-fc56991541f1'), KGProxy([<class 'fairgraph.openminds.core.products.dataset_version.DatasetVersion'>], 'https://kg.ebrains.eu/api/instances/bf268b89-1420-476b-b428-b85a913eb523')]\n"
     ]
    }
   ],
   "source": [
    "possible_terms = terms.Disease.list(kg_client, name=\"Alzheimer's disease\")\n",
    "print(f\"Found {len(possible_terms)} term(s)\")\n",
    "\n",
    "alzheimers = possible_terms[0]\n",
    "alzheimers.show()"
   ]
  },
  {
   "cell_type": "markdown",
   "metadata": {},
   "source": [
    "Now we have the graph node for that term, there are two ways we can find dataset versions that link to it:\n",
    "\n",
    "1. Starting from `DatasetVersion`"
   ]
  },
  {
   "cell_type": "code",
   "execution_count": 20,
   "metadata": {},
   "outputs": [
    {
     "name": "stdout",
     "output_type": "stream",
     "text": [
      "Found 11 datasets(s)\n"
     ]
    }
   ],
   "source": [
    "alzheimers_datasets1 = omcore.DatasetVersion.list(kg_client, study_targets=alzheimers)\n",
    "print(f\"Found {len(alzheimers_datasets1)} datasets(s)\")"
   ]
  },
  {
   "cell_type": "markdown",
   "metadata": {},
   "source": [
    "2. Starting from the controlled term node:\n",
    "\n",
    "In fact, the query for the term already gave us links to all the dataset versions that link to that term, using the property \"studied_in\", which is the reverse of \"study_targets\"."
   ]
  },
  {
   "cell_type": "code",
   "execution_count": 21,
   "metadata": {},
   "outputs": [
    {
     "name": "stdout",
     "output_type": "stream",
     "text": [
      "Found 12 datasets(s)\n"
     ]
    }
   ],
   "source": [
    "alzheimers_datasets2 = [link.resolve(kg_client) for link in alzheimers.studied_in]\n",
    "print(f\"Found {len(alzheimers_datasets2)} datasets(s)\")"
   ]
  },
  {
   "cell_type": "markdown",
   "metadata": {},
   "source": [
    "You may ask why the first query gave 11 results and the second query gave 12?!\n",
    "\n",
    "The answer is that the KG contains far more than just datasets. Let's look at the types of node that the Alzheimer node links to:"
   ]
  },
  {
   "cell_type": "code",
   "execution_count": 22,
   "metadata": {},
   "outputs": [
    {
     "data": {
      "text/plain": [
       "[fairgraph.openminds.core.products.dataset_version.DatasetVersion,\n",
       " fairgraph.openminds.core.products.dataset_version.DatasetVersion,\n",
       " fairgraph.openminds.core.products.dataset_version.DatasetVersion,\n",
       " fairgraph.openminds.core.products.dataset_version.DatasetVersion,\n",
       " fairgraph.openminds.core.products.dataset_version.DatasetVersion,\n",
       " fairgraph.openminds.core.products.dataset_version.DatasetVersion,\n",
       " fairgraph.openminds.core.products.model.Model,\n",
       " fairgraph.openminds.core.products.dataset_version.DatasetVersion,\n",
       " fairgraph.openminds.core.products.dataset_version.DatasetVersion,\n",
       " fairgraph.openminds.core.products.dataset_version.DatasetVersion,\n",
       " fairgraph.openminds.core.products.dataset_version.DatasetVersion,\n",
       " fairgraph.openminds.core.products.dataset_version.DatasetVersion]"
      ]
     },
     "execution_count": 22,
     "metadata": {},
     "output_type": "execute_result"
    }
   ],
   "source": [
    "[link.cls for link in alzheimers.studied_in]"
   ]
  },
  {
   "cell_type": "markdown",
   "metadata": {},
   "source": [
    "The mystery is explained! One of the 12 linked nodes is a model, not a dataset version."
   ]
  },
  {
   "cell_type": "code",
   "execution_count": 23,
   "metadata": {},
   "outputs": [
    {
     "name": "stdout",
     "output_type": "stream",
     "text": [
      "id                 https://kg.ebrains.eu/api/instances/2b600072-be7f-423f-a979-1e35283acaca\n",
      "space              model\n",
      "type               https://openminds.ebrains.eu/core/Model\n",
      "abstraction_level  KGProxy([<class 'fairgraph.openminds.controlled_terms.model_abstraction_level.ModelAbstractionLevel'>], 'https://kg.ebrains.eu/api/instances/75d660a3-ca3a-4bcc-933b-3bd8b6fea162')\n",
      "custodians         KGProxy((<class 'fairgraph.openminds.core.actors.consortium.Consortium'>, <class 'fairgraph.openminds.core.actors.organization.Organization'>, <class 'fairgraph.openminds.core.actors.person.Person'>), 'https://kg.ebrains.eu/api/instances/9a729478-8ad1-485c-b9ad-9a8a3d767f3d')\n",
      "description        Age-dependent accumulation of amyloid-b, provoking increasing brain amyloidopathy, triggers abnormal patterns of neuron activity and circuit synchronization in Alzheimer’s disease (AD) as observed in human AD patients and AD mouse models. Recent studies on AD mouse models, mimicking this age-dependent amyloidopathy, identified alterations in CA1 neuron excitability. However, these models generally also overexpress mutated amyloid precursor protein (APP) and presenilin 1 (PS1) and there is a lack of a clear correlation of neuronal excitability alterations with progressive amyloidopathy. The active development of computational models of AD points out the need of collecting such experimental data to build a reliable disease model exhibiting AD-like disease progression. We therefore used the feature extraction tool of the Human Brain Project (HBP) Brain Simulation Platform to systematically analyze the excitability profile of CA1 pyramidal neuron in the APPPS1 mouse model. We identified specific features of neuron excitability that best correlate either with over-expression of mutated APP and PS1 or increasing Ab amyloidopathy. Notably, we report strong alterations in membrane time constant and action potential width and weak alterations in firing behavior. Also, using a CA1 pyramidal neuron model, we evidence amyloidopathy-dependent alterations in Ih. Finally, cluster analysis of these recordings showed that we could reliably assign a trace to its correct group, opening the door to a more refined, less variable analysis of AD-affected neurons. This inter-disciplinary analysis, bringing together experimentalists and modelers, helps to further unravel the neuronal mechanisms most affected by AD and to build a biologically plausible computational model of the AD brain.\n",
      "developers         [KGProxy((<class 'fairgraph.openminds.core.actors.consortium.Consortium'>, <class 'fairgraph.openminds.core.actors.organization.Organization'>, <class 'fairgraph.openminds.core.actors.person.Person'>), 'https://kg.ebrains.eu/api/instances/5f009b50-4422-43fa-84b1-7d3a7dbe34e8'), KGProxy((<class 'fairgraph.openminds.core.actors.consortium.Consortium'>, <class 'fairgraph.openminds.core.actors.organization.Organization'>, <class 'fairgraph.openminds.core.actors.person.Person'>), 'https://kg.ebrains.eu/api/instances/9a729478-8ad1-485c-b9ad-9a8a3d767f3d')]\n",
      "full_name          Age-dependent excitability of CA1 pyramidal neurons in APPPS1 Alzheimer's model\n",
      "has_versions       KGProxy([<class 'fairgraph.openminds.core.products.model_version.ModelVersion'>], 'https://kg.ebrains.eu/api/instances/e1267b8b-96ec-4759-acb4-2d8ffc23f524')\n",
      "homepage           https://modeldb.science/266848\n",
      "model_scope        KGProxy([<class 'fairgraph.openminds.controlled_terms.model_scope.ModelScope'>], 'https://kg.ebrains.eu/api/instances/3daa5868-9dae-401d-8bd6-76b7fd34ef71')\n",
      "short_name         ca1-pyr-excitability-appps1\n",
      "study_targets      [KGProxy((<class 'fairgraph.openminds.controlled_terms.auditory_stimulus_type.AuditoryStimulusType'>, <class 'fairgraph.openminds.controlled_terms.biological_order.BiologicalOrder'>, <class 'fairgraph.openminds.controlled_terms.biological_sex.BiologicalSex'>, <class 'fairgraph.openminds.controlled_terms.breeding_type.BreedingType'>, <class 'fairgraph.openminds.controlled_terms.cell_culture_type.CellCultureType'>, <class 'fairgraph.openminds.controlled_terms.cell_type.CellType'>, <class 'fairgraph.openminds.controlled_terms.disease.Disease'>, <class 'fairgraph.openminds.controlled_terms.disease_model.DiseaseModel'>, <class 'fairgraph.openminds.controlled_terms.electrical_stimulus_type.ElectricalStimulusType'>, <class 'fairgraph.openminds.controlled_terms.genetic_strain_type.GeneticStrainType'>, <class 'fairgraph.openminds.controlled_terms.gustatory_stimulus_type.GustatoryStimulusType'>, <class 'fairgraph.openminds.controlled_terms.handedness.Handedness'>, <class 'fairgraph.openminds.controlled_terms.molecular_entity.MolecularEntity'>, <class 'fairgraph.openminds.controlled_terms.olfactory_stimulus_type.OlfactoryStimulusType'>, <class 'fairgraph.openminds.controlled_terms.optical_stimulus_type.OpticalStimulusType'>, <class 'fairgraph.openminds.controlled_terms.organ.Organ'>, <class 'fairgraph.openminds.controlled_terms.organism_substance.OrganismSubstance'>, <class 'fairgraph.openminds.controlled_terms.organism_system.OrganismSystem'>, <class 'fairgraph.openminds.controlled_terms.species.Species'>, <class 'fairgraph.openminds.controlled_terms.subcellular_entity.SubcellularEntity'>, <class 'fairgraph.openminds.controlled_terms.tactile_stimulus_type.TactileStimulusType'>, <class 'fairgraph.openminds.controlled_terms.term_suggestion.TermSuggestion'>, <class 'fairgraph.openminds.controlled_terms.tissue_sample_type.TissueSampleType'>, <class 'fairgraph.openminds.controlled_terms.uberon_parcellation.UBERONParcellation'>, <class 'fairgraph.openminds.controlled_terms.visual_stimulus_type.VisualStimulusType'>, <class 'fairgraph.openminds.sands.non_atlas.custom_anatomical_entity.CustomAnatomicalEntity'>, <class 'fairgraph.openminds.sands.atlas.parcellation_entity.ParcellationEntity'>, <class 'fairgraph.openminds.sands.atlas.parcellation_entity_version.ParcellationEntityVersion'>), 'https://kg.ebrains.eu/api/instances/161baa02-4e08-4cf2-a641-81cf323cc15d'), KGProxy((<class 'fairgraph.openminds.controlled_terms.auditory_stimulus_type.AuditoryStimulusType'>, <class 'fairgraph.openminds.controlled_terms.biological_order.BiologicalOrder'>, <class 'fairgraph.openminds.controlled_terms.biological_sex.BiologicalSex'>, <class 'fairgraph.openminds.controlled_terms.breeding_type.BreedingType'>, <class 'fairgraph.openminds.controlled_terms.cell_culture_type.CellCultureType'>, <class 'fairgraph.openminds.controlled_terms.cell_type.CellType'>, <class 'fairgraph.openminds.controlled_terms.disease.Disease'>, <class 'fairgraph.openminds.controlled_terms.disease_model.DiseaseModel'>, <class 'fairgraph.openminds.controlled_terms.electrical_stimulus_type.ElectricalStimulusType'>, <class 'fairgraph.openminds.controlled_terms.genetic_strain_type.GeneticStrainType'>, <class 'fairgraph.openminds.controlled_terms.gustatory_stimulus_type.GustatoryStimulusType'>, <class 'fairgraph.openminds.controlled_terms.handedness.Handedness'>, <class 'fairgraph.openminds.controlled_terms.molecular_entity.MolecularEntity'>, <class 'fairgraph.openminds.controlled_terms.olfactory_stimulus_type.OlfactoryStimulusType'>, <class 'fairgraph.openminds.controlled_terms.optical_stimulus_type.OpticalStimulusType'>, <class 'fairgraph.openminds.controlled_terms.organ.Organ'>, <class 'fairgraph.openminds.controlled_terms.organism_substance.OrganismSubstance'>, <class 'fairgraph.openminds.controlled_terms.organism_system.OrganismSystem'>, <class 'fairgraph.openminds.controlled_terms.species.Species'>, <class 'fairgraph.openminds.controlled_terms.subcellular_entity.SubcellularEntity'>, <class 'fairgraph.openminds.controlled_terms.tactile_stimulus_type.TactileStimulusType'>, <class 'fairgraph.openminds.controlled_terms.term_suggestion.TermSuggestion'>, <class 'fairgraph.openminds.controlled_terms.tissue_sample_type.TissueSampleType'>, <class 'fairgraph.openminds.controlled_terms.uberon_parcellation.UBERONParcellation'>, <class 'fairgraph.openminds.controlled_terms.visual_stimulus_type.VisualStimulusType'>, <class 'fairgraph.openminds.sands.non_atlas.custom_anatomical_entity.CustomAnatomicalEntity'>, <class 'fairgraph.openminds.sands.atlas.parcellation_entity.ParcellationEntity'>, <class 'fairgraph.openminds.sands.atlas.parcellation_entity_version.ParcellationEntityVersion'>), 'https://kg.ebrains.eu/api/instances/499b52ed-fb94-4291-a4fd-99a043a9af31'), KGProxy((<class 'fairgraph.openminds.controlled_terms.auditory_stimulus_type.AuditoryStimulusType'>, <class 'fairgraph.openminds.controlled_terms.biological_order.BiologicalOrder'>, <class 'fairgraph.openminds.controlled_terms.biological_sex.BiologicalSex'>, <class 'fairgraph.openminds.controlled_terms.breeding_type.BreedingType'>, <class 'fairgraph.openminds.controlled_terms.cell_culture_type.CellCultureType'>, <class 'fairgraph.openminds.controlled_terms.cell_type.CellType'>, <class 'fairgraph.openminds.controlled_terms.disease.Disease'>, <class 'fairgraph.openminds.controlled_terms.disease_model.DiseaseModel'>, <class 'fairgraph.openminds.controlled_terms.electrical_stimulus_type.ElectricalStimulusType'>, <class 'fairgraph.openminds.controlled_terms.genetic_strain_type.GeneticStrainType'>, <class 'fairgraph.openminds.controlled_terms.gustatory_stimulus_type.GustatoryStimulusType'>, <class 'fairgraph.openminds.controlled_terms.handedness.Handedness'>, <class 'fairgraph.openminds.controlled_terms.molecular_entity.MolecularEntity'>, <class 'fairgraph.openminds.controlled_terms.olfactory_stimulus_type.OlfactoryStimulusType'>, <class 'fairgraph.openminds.controlled_terms.optical_stimulus_type.OpticalStimulusType'>, <class 'fairgraph.openminds.controlled_terms.organ.Organ'>, <class 'fairgraph.openminds.controlled_terms.organism_substance.OrganismSubstance'>, <class 'fairgraph.openminds.controlled_terms.organism_system.OrganismSystem'>, <class 'fairgraph.openminds.controlled_terms.species.Species'>, <class 'fairgraph.openminds.controlled_terms.subcellular_entity.SubcellularEntity'>, <class 'fairgraph.openminds.controlled_terms.tactile_stimulus_type.TactileStimulusType'>, <class 'fairgraph.openminds.controlled_terms.term_suggestion.TermSuggestion'>, <class 'fairgraph.openminds.controlled_terms.tissue_sample_type.TissueSampleType'>, <class 'fairgraph.openminds.controlled_terms.uberon_parcellation.UBERONParcellation'>, <class 'fairgraph.openminds.controlled_terms.visual_stimulus_type.VisualStimulusType'>, <class 'fairgraph.openminds.sands.non_atlas.custom_anatomical_entity.CustomAnatomicalEntity'>, <class 'fairgraph.openminds.sands.atlas.parcellation_entity.ParcellationEntity'>, <class 'fairgraph.openminds.sands.atlas.parcellation_entity_version.ParcellationEntityVersion'>), 'https://kg.ebrains.eu/api/instances/d77eb055-3ee9-484f-9c53-b2e621afcb45'), KGProxy((<class 'fairgraph.openminds.controlled_terms.auditory_stimulus_type.AuditoryStimulusType'>, <class 'fairgraph.openminds.controlled_terms.biological_order.BiologicalOrder'>, <class 'fairgraph.openminds.controlled_terms.biological_sex.BiologicalSex'>, <class 'fairgraph.openminds.controlled_terms.breeding_type.BreedingType'>, <class 'fairgraph.openminds.controlled_terms.cell_culture_type.CellCultureType'>, <class 'fairgraph.openminds.controlled_terms.cell_type.CellType'>, <class 'fairgraph.openminds.controlled_terms.disease.Disease'>, <class 'fairgraph.openminds.controlled_terms.disease_model.DiseaseModel'>, <class 'fairgraph.openminds.controlled_terms.electrical_stimulus_type.ElectricalStimulusType'>, <class 'fairgraph.openminds.controlled_terms.genetic_strain_type.GeneticStrainType'>, <class 'fairgraph.openminds.controlled_terms.gustatory_stimulus_type.GustatoryStimulusType'>, <class 'fairgraph.openminds.controlled_terms.handedness.Handedness'>, <class 'fairgraph.openminds.controlled_terms.molecular_entity.MolecularEntity'>, <class 'fairgraph.openminds.controlled_terms.olfactory_stimulus_type.OlfactoryStimulusType'>, <class 'fairgraph.openminds.controlled_terms.optical_stimulus_type.OpticalStimulusType'>, <class 'fairgraph.openminds.controlled_terms.organ.Organ'>, <class 'fairgraph.openminds.controlled_terms.organism_substance.OrganismSubstance'>, <class 'fairgraph.openminds.controlled_terms.organism_system.OrganismSystem'>, <class 'fairgraph.openminds.controlled_terms.species.Species'>, <class 'fairgraph.openminds.controlled_terms.subcellular_entity.SubcellularEntity'>, <class 'fairgraph.openminds.controlled_terms.tactile_stimulus_type.TactileStimulusType'>, <class 'fairgraph.openminds.controlled_terms.term_suggestion.TermSuggestion'>, <class 'fairgraph.openminds.controlled_terms.tissue_sample_type.TissueSampleType'>, <class 'fairgraph.openminds.controlled_terms.uberon_parcellation.UBERONParcellation'>, <class 'fairgraph.openminds.controlled_terms.visual_stimulus_type.VisualStimulusType'>, <class 'fairgraph.openminds.sands.non_atlas.custom_anatomical_entity.CustomAnatomicalEntity'>, <class 'fairgraph.openminds.sands.atlas.parcellation_entity.ParcellationEntity'>, <class 'fairgraph.openminds.sands.atlas.parcellation_entity_version.ParcellationEntityVersion'>), 'https://kg.ebrains.eu/api/instances/d9875ebd-260e-4337-a637-b62fed4aa91d')]\n"
     ]
    }
   ],
   "source": [
    "alzheimers_model = [item for item in alzheimers_datasets2 if isinstance(item, omcore.Model)][0]\n",
    "alzheimers_model.show()"
   ]
  },
  {
   "cell_type": "markdown",
   "metadata": {},
   "source": [
    "## 6. Writing to the Knowledge Graph\n",
    "\n",
    "When sharing scientific data and the associated metadata,\n",
    "especially sensitive or pre-publication data,\n",
    "it is important to consider who has access to the data,\n",
    "and who has permissions to create or modify metadata.\n",
    "\n",
    "The EBRAINS Knowledge Graph is divided into different spaces,\n",
    "each with its own access control permissions.\n",
    "By default, the core API searches across all spaces for which a user has \"read\" permission,\n",
    "although it is possible to restrict searches to specific spaces.\n",
    "\n",
    "Public metadata in the EBRAINS KG are stored in curated spaces,\n",
    "to which only nominated curators have write access.\n",
    "This ensures high standards of quality control.\n",
    "\n",
    "However, each user has their own private space in the KG, called \"myspace\",\n",
    "and user may also create shared private spaces,\n",
    "associated with a collab workspace in the [EBRAINS Collaboratory](https://wiki.ebrains.eu/).\n",
    "\n",
    "In this part of the tutorial, we will create our own openMINDS nodes, and save them to your \"myspace\".\n",
    "Let's try adding some people. To see what properties the `Person` type has, we can examine the `property_name` attribute:"
   ]
  },
  {
   "cell_type": "code",
   "execution_count": 27,
   "metadata": {},
   "outputs": [
    {
     "data": {
      "text/plain": [
       "['affiliations',\n",
       " 'alternate_names',\n",
       " 'associated_accounts',\n",
       " 'contact_information',\n",
       " 'digital_identifiers',\n",
       " 'family_name',\n",
       " 'given_name',\n",
       " 'activities',\n",
       " 'comments',\n",
       " 'coordinated_projects',\n",
       " 'developed',\n",
       " 'funded',\n",
       " 'is_custodian_of',\n",
       " 'is_owner_of',\n",
       " 'is_provider_of',\n",
       " 'manufactured',\n",
       " 'published',\n",
       " 'started']"
      ]
     },
     "execution_count": 27,
     "metadata": {},
     "output_type": "execute_result"
    }
   ],
   "source": [
    "omcore.Person.property_names"
   ]
  },
  {
   "cell_type": "markdown",
   "metadata": {},
   "source": [
    "To see more information, like what Python type each property expects, and whether a property can contain multiple items in a list, we can use the `properties` attribute:"
   ]
  },
  {
   "cell_type": "code",
   "execution_count": 29,
   "metadata": {},
   "outputs": [
    {
     "data": {
      "text/plain": [
       "[Property(name='affiliations', types=(<class 'fairgraph.openminds.core.actors.affiliation.Affiliation'>,), path='vocab:affiliation', required=False, multiple=True),\n",
       " Property(name='alternate_names', types=(<class 'str'>,), path='vocab:alternateName', required=False, multiple=True),\n",
       " Property(name='associated_accounts', types=(<class 'fairgraph.openminds.core.actors.account_information.AccountInformation'>,), path='vocab:associatedAccount', required=False, multiple=True),\n",
       " Property(name='contact_information', types=(<class 'fairgraph.openminds.core.actors.contact_information.ContactInformation'>,), path='vocab:contactInformation', required=False, multiple=False),\n",
       " Property(name='digital_identifiers', types=(<class 'fairgraph.openminds.core.digital_identifier.orcid.ORCID'>,), path='vocab:digitalIdentifier', required=False, multiple=True),\n",
       " Property(name='family_name', types=(<class 'str'>,), path='vocab:familyName', required=False, multiple=False),\n",
       " Property(name='given_name', types=(<class 'str'>,), path='vocab:givenName', required=True, multiple=False)]"
      ]
     },
     "execution_count": 29,
     "metadata": {},
     "output_type": "execute_result"
    }
   ],
   "source": [
    "omcore.Person.properties"
   ]
  },
  {
   "cell_type": "markdown",
   "metadata": {},
   "source": [
    "We'll stick to something simple: adding the \"given_name\", \"family_name\" and \"affiliation\" properties."
   ]
  },
  {
   "cell_type": "code",
   "execution_count": 31,
   "metadata": {},
   "outputs": [],
   "source": [
    "mgm = omcore.Organization(full_name=\"Metro-Goldwyn-Mayer\", short_name=\"MGM\")\n",
    "stan = omcore.Person(given_name=\"Stan\", family_name=\"Laurel\", affiliations=omcore.Affiliation(member_of=mgm))\n",
    "ollie = omcore.Person(given_name=\"Oliver\", family_name=\"Hardy\", alternate_names=[\"Ollie\"], affiliations=omcore.Affiliation(member_of=mgm))"
   ]
  },
  {
   "cell_type": "markdown",
   "metadata": {},
   "source": [
    "Now we can save these as nodes in the KG. \n",
    "\n",
    "Note that we use the \"recursive\" option, so that the \"mgm\" node will also be saved, as it is a child of the \"stan\" and \"ollie\" nodes. Alternatively, we could have saved \"mgm\" explicitly, and then saved \"stan\" and \"ollie\" with `recursive=False`.\n",
    "In general, it is safer and faster to use `recursive=False` and to manage saving all nodes explicitly, but it does take more effort."
   ]
  },
  {
   "cell_type": "code",
   "execution_count": null,
   "metadata": {},
   "outputs": [],
   "source": [
    "stan.save(kg_client, space=\"myspace\", recursive=True)\n",
    "ollie.save(kg_client, space=\"myspace\", recursive=True)"
   ]
  },
  {
   "cell_type": "markdown",
   "metadata": {},
   "source": [
    "Let's check this worked:"
   ]
  },
  {
   "cell_type": "code",
   "execution_count": 34,
   "metadata": {},
   "outputs": [
    {
     "name": "stdout",
     "output_type": "stream",
     "text": [
      "- Bilbo Baggins (39a51d78-a181-402b-a6ee-cee868a3f864)\n",
      "- Oliver Hardy (b359d7f3-8e7a-440b-a4d4-9c393f428508)\n",
      "- Stan Laurel (c187464f-4529-417c-9c1b-84496922e8b5)\n"
     ]
    }
   ],
   "source": [
    "for person in omcore.Person.list(kg_client, scope=\"in progress\", space=\"myspace\"):\n",
    "    print(f\"- {person.full_name} ({person.uuid})\")"
   ]
  },
  {
   "cell_type": "markdown",
   "metadata": {},
   "source": [
    "One more important thing to note: when querying the KG to get a list of people,\n",
    "we pass the option `scope=\"in progress\"`.\n",
    "\n",
    "When first creating a new node in the KG, it is set to the status \"In progress\".\n",
    "Only after quality control checks, and when we wish to publish the metadata,\n",
    "is the node set to \"Released\" status."
   ]
  },
  {
   "cell_type": "markdown",
   "metadata": {},
   "source": [
    "What happens if we create a new Stan Laurel node and save it?"
   ]
  },
  {
   "cell_type": "code",
   "execution_count": 35,
   "metadata": {},
   "outputs": [
    {
     "name": "stdout",
     "output_type": "stream",
     "text": [
      "- Bilbo Baggins (39a51d78-a181-402b-a6ee-cee868a3f864)\n",
      "- Oliver Hardy (b359d7f3-8e7a-440b-a4d4-9c393f428508)\n",
      "- Stan Laurel (c187464f-4529-417c-9c1b-84496922e8b5)\n"
     ]
    }
   ],
   "source": [
    "new_stan = omcore.Person(given_name=\"Stan\", family_name=\"Laurel\", affiliations=omcore.Affiliation(member_of=mgm))\n",
    "new_stan.save(kg_client, space=\"myspace\", recursive=True)\n",
    "\n",
    "for person in omcore.Person.list(kg_client, scope=\"in progress\", space=\"myspace\"):\n",
    "    print(f\"- {person.full_name} ({person.uuid})\")"
   ]
  },
  {
   "cell_type": "markdown",
   "metadata": {},
   "source": [
    "We have the same list, and our local Python objects `stan` and `new_stan` have the same IDs."
   ]
  },
  {
   "cell_type": "code",
   "execution_count": 38,
   "metadata": {},
   "outputs": [
    {
     "name": "stdout",
     "output_type": "stream",
     "text": [
      "c187464f-4529-417c-9c1b-84496922e8b5\n",
      "c187464f-4529-417c-9c1b-84496922e8b5\n"
     ]
    }
   ],
   "source": [
    "print(stan.uuid)\n",
    "print(new_stan.uuid)"
   ]
  },
  {
   "cell_type": "markdown",
   "metadata": {},
   "source": [
    "This happens because fairgraph checks whether a node already exists in the KG before creating a new one. To do this, it uses the attribute `existence_query_properties`:"
   ]
  },
  {
   "cell_type": "code",
   "execution_count": 39,
   "metadata": {},
   "outputs": [
    {
     "data": {
      "text/plain": [
       "('given_name', 'family_name')"
      ]
     },
     "execution_count": 39,
     "metadata": {},
     "output_type": "execute_result"
    }
   ],
   "source": [
    "omcore.Person.existence_query_properties"
   ]
  },
  {
   "cell_type": "markdown",
   "metadata": {},
   "source": [
    "so any `Person` object with the same \"given_name\" and \"family_name\" will be considered to represent the same person, even if other properties, such as \"affiliations\", differ between the two objects.\n",
    "\n",
    "If you really need to add a new object with the same \"existence query\" properties, you could create the object with slightly modified attributes, then change it back to the original value and save the modifications."
   ]
  },
  {
   "cell_type": "code",
   "execution_count": 41,
   "metadata": {},
   "outputs": [
    {
     "name": "stdout",
     "output_type": "stream",
     "text": [
      "dae57942-ea76-4283-9439-b368b5e26fb6\n",
      "- Bilbo Baggins (39a51d78-a181-402b-a6ee-cee868a3f864)\n",
      "- Oliver Hardy (b359d7f3-8e7a-440b-a4d4-9c393f428508)\n",
      "- Stan Laurel (c187464f-4529-417c-9c1b-84496922e8b5)\n",
      "- Stan Laurel (dae57942-ea76-4283-9439-b368b5e26fb6)\n"
     ]
    }
   ],
   "source": [
    "new_stan = omcore.Person(given_name=\"Stan_CHANGETHIS\", family_name=\"Laurel\")\n",
    "new_stan.save(kg_client, space=\"myspace\")\n",
    "new_stan.given_name = \"Stan\"\n",
    "new_stan.save(kg_client)\n",
    "\n",
    "print(new_stan.uuid)\n",
    "\n",
    "for person in omcore.Person.list(kg_client, scope=\"in progress\", space=\"myspace\"):\n",
    "    print(f\"- {person.full_name} ({person.uuid})\")\n"
   ]
  },
  {
   "cell_type": "markdown",
   "metadata": {},
   "source": [
    "(Note that when saving modifications to an existing node, you don't need to specify the space, since fairgraph keeps track of this).\n",
    "\n",
    "The alternative approach is to generate the ID locally:"
   ]
  },
  {
   "cell_type": "code",
   "execution_count": 42,
   "metadata": {},
   "outputs": [
    {
     "name": "stdout",
     "output_type": "stream",
     "text": [
      "- Bilbo Baggins (39a51d78-a181-402b-a6ee-cee868a3f864)\n",
      "- Oliver Hardy (b359d7f3-8e7a-440b-a4d4-9c393f428508)\n",
      "- Stan Laurel (c187464f-4529-417c-9c1b-84496922e8b5)\n",
      "- Stan Laurel (dae57942-ea76-4283-9439-b368b5e26fb6)\n",
      "- Stan Laurel (e0f45937-1948-44ac-accd-d6045c2494b9)\n"
     ]
    }
   ],
   "source": [
    "from uuid import uuid4\n",
    "\n",
    "another_new_stan = omcore.Person(\n",
    "    given_name=\"Stan\",\n",
    "    family_name=\"Laurel\",\n",
    "    id=kg_client.uri_from_uuid(uuid4())\n",
    ")\n",
    "another_new_stan.save(kg_client, space=\"myspace\")\n",
    "\n",
    "for person in omcore.Person.list(kg_client, scope=\"in progress\", space=\"myspace\"):\n",
    "    print(f\"- {person.full_name} ({person.uuid})\")\n"
   ]
  },
  {
   "cell_type": "markdown",
   "metadata": {},
   "source": [
    "But there was only one Stan Laurel, so let's delete the extra ones!"
   ]
  },
  {
   "cell_type": "code",
   "execution_count": 43,
   "metadata": {},
   "outputs": [
    {
     "name": "stdout",
     "output_type": "stream",
     "text": [
      "- Bilbo Baggins (39a51d78-a181-402b-a6ee-cee868a3f864)\n",
      "- Oliver Hardy (b359d7f3-8e7a-440b-a4d4-9c393f428508)\n",
      "- Stan Laurel (c187464f-4529-417c-9c1b-84496922e8b5)\n"
     ]
    }
   ],
   "source": [
    "new_stan.delete(kg_client)\n",
    "another_new_stan.delete(kg_client)\n",
    "\n",
    "for person in omcore.Person.list(kg_client, scope=\"in progress\", space=\"myspace\"):\n",
    "    print(f\"- {person.full_name} ({person.uuid})\")"
   ]
  },
  {
   "cell_type": "markdown",
   "metadata": {},
   "source": [
    "![Stan Laurel (1920) from Wikimedia Commons. This work is in the Public Domain.](https://upload.wikimedia.org/wikipedia/commons/thumb/3/34/Stan_Laurel_c1920.jpg/183px-Stan_Laurel_c1920.jpg)"
   ]
  },
  {
   "cell_type": "markdown",
   "metadata": {},
   "source": [
    "## 7. Conclusions\n",
    "\n",
    "This is the end of the tutorial.\n",
    "The aim was to give you an understanding of some of the key concepts, and to give you experience with querying, retrieving, and creating metadata nodes in the EBRAINS Knowledge Graph, using fairgraph.\n",
    "\n",
    "You may also be interested in our tutorial on [working with the EBRAINS Knowledge Graph using Javascript](https://github.com/apdavison/ebrains-kg-tutorial-javascript)."
   ]
  }
 ],
 "metadata": {
  "kernelspec": {
   "display_name": "EBRAINS-experimental",
   "language": "python",
   "name": "ebrains-experimental"
  },
  "language_info": {
   "codemirror_mode": {
    "name": "ipython",
    "version": 3
   },
   "file_extension": ".py",
   "mimetype": "text/x-python",
   "name": "python",
   "nbconvert_exporter": "python",
   "pygments_lexer": "ipython3",
   "version": "3.8.11"
  }
 },
 "nbformat": 4,
 "nbformat_minor": 4
}
